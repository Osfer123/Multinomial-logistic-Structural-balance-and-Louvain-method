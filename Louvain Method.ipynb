{
 "cells": [
  {
   "cell_type": "code",
   "execution_count": null,
   "metadata": {},
   "outputs": [],
   "source": [
    "import networkx as nx\n",
    "import matplotlib.pyplot as plt\n",
    "import pandas as pd"
   ]
  },
  {
   "cell_type": "code",
   "execution_count": null,
   "metadata": {},
   "outputs": [],
   "source": [
    "df=pd.read_csv('Non-state R.csv')"
   ]
  },
  {
   "cell_type": "code",
   "execution_count": null,
   "metadata": {},
   "outputs": [],
   "source": [
    "df.head()"
   ]
  },
  {
   "cell_type": "code",
   "execution_count": null,
   "metadata": {},
   "outputs": [],
   "source": [
    "G=nx.from_pandas_edgelist(df,'side_a','side_b',edge_attr='Deaths')"
   ]
  },
  {
   "cell_type": "code",
   "execution_count": null,
   "metadata": {},
   "outputs": [],
   "source": [
    "\n",
    "nx.draw(G, with_labels=True)"
   ]
  },
  {
   "cell_type": "code",
   "execution_count": null,
   "metadata": {},
   "outputs": [],
   "source": [
    "plt.figure(figsize=(10,10), dpi=300)\n",
    "pos=nx.spring_layout(G, k=1)\n",
    "ax= plt.gca()\n",
    "ax.set_title('Violent Conflicts 2004-2020')\n",
    "nx.draw(G, pos, with_labels=True, node_color='tab:blue', node_size=1000, edge_color='red')\n",
    "plt.savefig('Violent Conflicts 2004-2020')\n",
    "plt.margins(x=.1)\n",
    "plt.show()\n"
   ]
  },
  {
   "cell_type": "code",
   "execution_count": null,
   "metadata": {},
   "outputs": [],
   "source": [
    "print('number of edges is:',G.number_of_edges())\n",
    "print('number of nodes is:',G.number_of_nodes())"
   ]
  },
  {
   "cell_type": "code",
   "execution_count": null,
   "metadata": {},
   "outputs": [],
   "source": [
    "import community\n",
    "\n",
    "part = community.best_partition(G)\n",
    "mod = community.modularity(part,G)\n",
    "\n",
    "# Plot, color nodes using community structure\n",
    "plt.figure(figsize=(12,12), dpi=300)\n",
    "values = [part.get(node) for node in G.nodes()]\n",
    "nx.draw_spring(G, cmap=plt.get_cmap('viridis'), node_color = values, node_size=500, with_labels=True, width=3)\n",
    "plt.savefig('clusters of violent conflicts')\n",
    "plt.margins(x=.3)\n",
    "plt.show()"
   ]
  },
  {
   "cell_type": "code",
   "execution_count": null,
   "metadata": {},
   "outputs": [],
   "source": [
    "df1=pd.read_csv('All 2004-2007.csv')"
   ]
  },
  {
   "cell_type": "code",
   "execution_count": null,
   "metadata": {},
   "outputs": [],
   "source": [
    "df1.head()"
   ]
  },
  {
   "cell_type": "code",
   "execution_count": null,
   "metadata": {},
   "outputs": [],
   "source": [
    "df1['Total'] = df1.groupby(['side_a','side_b'])['Deaths'].transform('sum')"
   ]
  },
  {
   "cell_type": "code",
   "execution_count": null,
   "metadata": {},
   "outputs": [],
   "source": [
    "new_df = df1.drop_duplicates(subset=['side_a', 'side_b'])\n",
    "\n"
   ]
  },
  {
   "cell_type": "code",
   "execution_count": null,
   "metadata": {},
   "outputs": [],
   "source": [
    "F=nx.from_pandas_edgelist(new_df, 'side_a', 'side_b', edge_attr='Total')\n",
    "weights = nx.get_edge_attributes(F,'Total').values()\n"
   ]
  },
  {
   "cell_type": "code",
   "execution_count": null,
   "metadata": {},
   "outputs": [],
   "source": [
    "part1 = community.best_partition(F)\n",
    "plt.figure(figsize=(4,4), dpi=300)\n",
    "values = [part1.get(node) for node in F.nodes()]\n",
    "nx.draw_spring(F, cmap=plt.get_cmap('viridis'), node_color = values, node_size=100, with_labels=True)\n",
    "plt.title(\"2004-2007 - One Community of Violent Conflicts\")\n",
    "plt.savefig('Clustering 2004-2007.png')\n",
    "plt.margins(x=.3)\n",
    "plt.show()"
   ]
  },
  {
   "cell_type": "code",
   "execution_count": null,
   "metadata": {},
   "outputs": [],
   "source": []
  },
  {
   "cell_type": "code",
   "execution_count": null,
   "metadata": {},
   "outputs": [],
   "source": [
    "H=nx.from_pandas_edgelist(df1,'side_a','side_b')\n",
    "plt.figure(figsize=(6,6), dpi=300)\n",
    "pos=nx.spring_layout(H, k=1)\n",
    "ax=plt.gca\n",
    "nx.draw(H, pos, with_labels=True, node_color='tab:blue', node_size=500, edge_color='red')\n",
    "plt.margins(x=.1)\n",
    "plt.show()"
   ]
  },
  {
   "cell_type": "code",
   "execution_count": null,
   "metadata": {},
   "outputs": [],
   "source": [
    "df2=pd.read_csv('All 2008-2012.csv')"
   ]
  },
  {
   "cell_type": "code",
   "execution_count": null,
   "metadata": {},
   "outputs": [],
   "source": [
    "df2.head()"
   ]
  },
  {
   "cell_type": "code",
   "execution_count": null,
   "metadata": {},
   "outputs": [],
   "source": [
    "J=nx.from_pandas_edgelist(df2,'side_a','side_b')"
   ]
  },
  {
   "cell_type": "code",
   "execution_count": null,
   "metadata": {},
   "outputs": [],
   "source": [
    "part2 = community.best_partition(J)\n",
    "# Plot, color nodes using community structure\n",
    "plt.figure(figsize=(10,10), dpi=300)\n",
    "values = [part2.get(node) for node in J.nodes()]\n",
    "nx.draw_spring(J, cmap=plt.get_cmap('viridis'), node_color = values, node_size=500, with_labels=True, width=3)\n",
    "plt.title(\"2008-2012 - Six communities of violent conflicts\")\n",
    "plt.savefig('Clustering 2008-2012.png')\n",
    "plt.margins(x=.3)\n",
    "plt.show()"
   ]
  },
  {
   "cell_type": "code",
   "execution_count": null,
   "metadata": {},
   "outputs": [],
   "source": [
    "print('The number of nodes is:', J.number_of_nodes())\n",
    "print('The number of edges is', J.number_of_edges())"
   ]
  },
  {
   "cell_type": "code",
   "execution_count": null,
   "metadata": {},
   "outputs": [],
   "source": [
    "df3=pd.read_csv('All 2013-2020.csv')"
   ]
  },
  {
   "cell_type": "code",
   "execution_count": null,
   "metadata": {},
   "outputs": [],
   "source": [
    "K=nx.from_pandas_edgelist(df3,'side_a','side_b')"
   ]
  },
  {
   "cell_type": "code",
   "execution_count": null,
   "metadata": {},
   "outputs": [],
   "source": [
    "part3 = community.best_partition(K)\n",
    "plt.figure(figsize=(10,10), dpi=300)\n",
    "values = [part3.get(node) for node in K.nodes()]\n",
    "nx.draw_spring(K, cmap=plt.get_cmap('viridis'), node_color = values, node_size=500, with_labels=True, width=3)\n",
    "plt.title(\"2013-2020 - Thirteen communities of violent conflicts\")\n",
    "plt.savefig('Clustering 2013-2020.png')\n",
    "plt.margins(x=.3)\n",
    "plt.show()"
   ]
  },
  {
   "cell_type": "code",
   "execution_count": null,
   "metadata": {},
   "outputs": [],
   "source": [
    "part"
   ]
  },
  {
   "cell_type": "code",
   "execution_count": null,
   "metadata": {},
   "outputs": [],
   "source": [
    "print('The number of nodes is:', K.number_of_nodes())\n",
    "print('The number of edges is', K.number_of_edges())"
   ]
  },
  {
   "cell_type": "code",
   "execution_count": null,
   "metadata": {},
   "outputs": [],
   "source": [
    "df3=pd.read_csv('All 2012.csv')"
   ]
  },
  {
   "cell_type": "code",
   "execution_count": null,
   "metadata": {},
   "outputs": [],
   "source": [
    "L=nx.from_pandas_edgelist(df3,'side_a','side_b')"
   ]
  },
  {
   "cell_type": "code",
   "execution_count": null,
   "metadata": {},
   "outputs": [],
   "source": [
    "part = community.best_partition(L)\n",
    "plt.figure(figsize=(10,10), dpi=300)\n",
    "values = [part.get(node) for node in L.nodes()]\n",
    "nx.draw_spring(L, cmap=plt.get_cmap('viridis'), node_color = values, node_size=500, with_labels=True, width=3)\n",
    "plt.savefig('All Conflicts 2012')\n",
    "plt.margins(x=.3)\n",
    "plt.show()"
   ]
  },
  {
   "cell_type": "code",
   "execution_count": null,
   "metadata": {},
   "outputs": [],
   "source": [
    "T=nx.grid_2d_graph(4,4)\n",
    "plt.figure(figsize=(14, 10), dpi=300)\n",
    "\n",
    "plt.subplot(221)\n",
    "plt.margins(x=.15)\n",
    "ax = plt.gca()\n",
    "ax.set_title('2008-2012 - One Community of Violent Conflicts', fontsize=15)\n",
    "part1=community.best_partition(F)\n",
    "values = [part1.get(node) for node in F.nodes()]\n",
    "nx.draw_spring(F, cmap=plt.get_cmap('viridis'), node_color = values, node_size=100, with_labels=True)\n",
    "\n",
    "\n",
    "plt.subplot(222)\n",
    "plt.margins(x=.15)\n",
    "ax = plt.gca()\n",
    "ax.set_title('2008-2012 - Six Communities of Violent Conflicts', fontsize=15)\n",
    "part2 = community.best_partition(J)\n",
    "values = [part2.get(node) for node in J.nodes()]\n",
    "nx.draw_spring(J, cmap=plt.get_cmap('viridis'), node_color = values, node_size=500, with_labels=True, width=3)\n",
    "\n",
    "plt.subplot(223)\n",
    "plt.margins(x=.15)\n",
    "ax = plt.gca()\n",
    "ax.set_title('2013-2020 - Thirteen Communities of Violent Conflicts', fontsize=15)\n",
    "part3 = community.best_partition(K)\n",
    "values = [part.get(node) for node in K.nodes()]\n",
    "nx.draw_spring(K, cmap=plt.get_cmap('viridis'), node_color = values, node_size=500, with_labels=True, width=3)\n",
    "\n",
    "\n",
    "\n",
    "plt.savefig('Clustering 2004-2020.png', bbox_inches='tight')"
   ]
  },
  {
   "cell_type": "code",
   "execution_count": null,
   "metadata": {},
   "outputs": [],
   "source": [
    "df=pd.read_csv('All 2008.csv')"
   ]
  },
  {
   "cell_type": "code",
   "execution_count": null,
   "metadata": {},
   "outputs": [],
   "source": [
    "G=nx.from_pandas_edgelist(df,'side_a','side_b')"
   ]
  },
  {
   "cell_type": "code",
   "execution_count": null,
   "metadata": {},
   "outputs": [],
   "source": [
    "part = community.best_partition(G)\n",
    "plt.figure(figsize=(10,10), dpi=300)\n",
    "values = [part.get(node) for node in G.nodes()]\n",
    "nx.draw_spring(G, cmap=plt.get_cmap('viridis'), node_color = values, node_size=500, with_labels=True, width=3)\n",
    "plt.savefig('All Conflicts 2008')\n",
    "plt.margins(x=.3)\n",
    "plt.show()"
   ]
  },
  {
   "cell_type": "code",
   "execution_count": null,
   "metadata": {},
   "outputs": [],
   "source": [
    "df=pd.read_csv('All 2009.csv')\n",
    "G=nx.from_pandas_edgelist(df,'side_a','side_b')\n",
    "\n",
    "part = community.best_partition(G)\n",
    "plt.figure(figsize=(10,10), dpi=300)\n",
    "values = [part.get(node) for node in G.nodes()]\n",
    "nx.draw_spring(G, cmap=plt.get_cmap('viridis'), node_color = values, node_size=500, with_labels=True, width=3)\n",
    "plt.savefig('All Conflicts 2009')\n",
    "plt.margins(x=.3)\n",
    "plt.show()\n"
   ]
  },
  {
   "cell_type": "code",
   "execution_count": null,
   "metadata": {},
   "outputs": [],
   "source": [
    "df=pd.read_csv('All 2010.csv')\n",
    "G=nx.from_pandas_edgelist(df,'side_a','side_b')\n",
    "\n",
    "part = community.best_partition(G)\n",
    "plt.figure(figsize=(10,10), dpi=300)\n",
    "values = [part.get(node) for node in G.nodes()]\n",
    "nx.draw_spring(G, cmap=plt.get_cmap('viridis'), node_color = values, node_size=500, with_labels=True, width=3)\n",
    "plt.savefig('All Conflicts 2010')\n",
    "plt.margins(x=.3)\n",
    "plt.show()"
   ]
  },
  {
   "cell_type": "code",
   "execution_count": null,
   "metadata": {},
   "outputs": [],
   "source": [
    "df=pd.read_csv('All 2011.csv')\n",
    "G=nx.from_pandas_edgelist(df,'side_a','side_b')\n",
    "\n",
    "part = community.best_partition(G)\n",
    "plt.figure(figsize=(10,10), dpi=300)\n",
    "values = [part.get(node) for node in G.nodes()]\n",
    "nx.draw_spring(G, cmap=plt.get_cmap('viridis'), node_color = values, node_size=500, with_labels=True, width=3)\n",
    "plt.savefig('All Conflicts 2011')\n",
    "plt.margins(x=.3)\n",
    "plt.show()"
   ]
  },
  {
   "cell_type": "code",
   "execution_count": null,
   "metadata": {},
   "outputs": [],
   "source": [
    "df=pd.read_csv('All 2012.csv')\n",
    "G=nx.from_pandas_edgelist(df,'side_a','side_b')\n",
    "\n",
    "part = community.best_partition(G)\n",
    "plt.figure(figsize=(6,6), dpi=300)\n",
    "values = [part.get(node) for node in G.nodes()]\n",
    "nx.draw_spring(G, cmap=plt.get_cmap('viridis'), node_color = values, node_size=500, with_labels=True, width=3)\n",
    "plt.margins(x=.3)\n",
    "plt.savefig('All Conflicts 2012', bbox_inches='tight')\n",
    "plt.show()"
   ]
  },
  {
   "cell_type": "code",
   "execution_count": null,
   "metadata": {},
   "outputs": [],
   "source": [
    "df=pd.read_csv('All 2013.csv')\n",
    "G=nx.from_pandas_edgelist(df,'side_a','side_b')\n",
    "\n",
    "part = community.best_partition(G)\n",
    "plt.figure(figsize=(10,10), dpi=300)\n",
    "values = [part.get(node) for node in G.nodes()]\n",
    "nx.draw_spring(G, cmap=plt.get_cmap('viridis'), node_color = values, node_size=500, with_labels=True, width=3)\n",
    "plt.savefig('All Conflicts 2013')\n",
    "plt.margins(x=.3)\n",
    "plt.show()"
   ]
  },
  {
   "cell_type": "code",
   "execution_count": null,
   "metadata": {},
   "outputs": [],
   "source": [
    "df=pd.read_csv('All 2014.csv')\n",
    "G=nx.from_pandas_edgelist(df,'side_a','side_b')\n",
    "\n",
    "part = community.best_partition(G)\n",
    "plt.figure(figsize=(10,10), dpi=300)\n",
    "values = [part.get(node) for node in G.nodes()]\n",
    "nx.draw_spring(G, cmap=plt.get_cmap('viridis'), node_color = values, node_size=500, with_labels=True, width=3)\n",
    "plt.savefig('All Conflicts 2014')\n",
    "plt.margins(x=.3)\n",
    "plt.show()"
   ]
  },
  {
   "cell_type": "code",
   "execution_count": null,
   "metadata": {},
   "outputs": [],
   "source": [
    "df=pd.read_csv('All 2015.csv')\n",
    "G=nx.from_pandas_edgelist(df,'side_a','side_b')\n",
    "\n",
    "part = community.best_partition(G)\n",
    "plt.figure(figsize=(10,10), dpi=300)\n",
    "values = [part.get(node) for node in G.nodes()]\n",
    "nx.draw_spring(G, cmap=plt.get_cmap('viridis'), node_color = values, node_size=500, with_labels=True, width=3)\n",
    "plt.savefig('All Conflicts 2015')\n",
    "plt.margins(x=.3)\n",
    "plt.show()"
   ]
  },
  {
   "cell_type": "code",
   "execution_count": null,
   "metadata": {},
   "outputs": [],
   "source": [
    "df=pd.read_csv('All 2016.csv')\n",
    "G=nx.from_pandas_edgelist(df,'side_a','side_b')\n",
    "\n",
    "part = community.best_partition(G)\n",
    "plt.figure(figsize=(10,10), dpi=300)\n",
    "values = [part.get(node) for node in G.nodes()]\n",
    "nx.draw_spring(G, cmap=plt.get_cmap('viridis'), node_color = values, node_size=500, with_labels=True, width=3)\n",
    "plt.savefig('All Conflicts 2016')\n",
    "plt.margins(x=.3)\n",
    "plt.show()"
   ]
  },
  {
   "cell_type": "code",
   "execution_count": null,
   "metadata": {},
   "outputs": [],
   "source": [
    "df=pd.read_csv('All 2017.csv')\n",
    "G=nx.from_pandas_edgelist(df,'side_a','side_b')\n",
    "\n",
    "part = community.best_partition(G)\n",
    "plt.figure(figsize=(10,10), dpi=300)\n",
    "values = [part.get(node) for node in G.nodes()]\n",
    "nx.draw_spring(G, cmap=plt.get_cmap('viridis'), node_color = values, node_size=500, with_labels=True, width=3)\n",
    "plt.savefig('All Conflicts 2017')\n",
    "plt.margins(x=.3)\n",
    "plt.show()"
   ]
  },
  {
   "cell_type": "code",
   "execution_count": null,
   "metadata": {},
   "outputs": [],
   "source": [
    "df=pd.read_csv('All 2018.csv')\n",
    "G=nx.from_pandas_edgelist(df,'side_a','side_b')\n",
    "\n",
    "part = community.best_partition(G)\n",
    "plt.figure(figsize=(10,10), dpi=300)\n",
    "values = [part.get(node) for node in G.nodes()]\n",
    "nx.draw_spring(G, cmap=plt.get_cmap('viridis'), node_color = values, node_size=500, with_labels=True, width=3)\n",
    "plt.savefig('All Conflicts 2018')\n",
    "plt.margins(x=.3)\n",
    "plt.show()"
   ]
  },
  {
   "cell_type": "code",
   "execution_count": null,
   "metadata": {},
   "outputs": [],
   "source": [
    "df=pd.read_csv('All 2019.csv')\n",
    "G=nx.from_pandas_edgelist(df,'side_a','side_b')\n",
    "\n",
    "part = community.best_partition(G)\n",
    "plt.figure(figsize=(10,10), dpi=300)\n",
    "values = [part.get(node) for node in G.nodes()]\n",
    "nx.draw_spring(G, cmap=plt.get_cmap('viridis'), node_color = values, node_size=500, with_labels=True, width=3)\n",
    "plt.savefig('All Conflicts 2019')\n",
    "plt.margins(x=.3)\n",
    "plt.show()"
   ]
  },
  {
   "cell_type": "code",
   "execution_count": null,
   "metadata": {},
   "outputs": [],
   "source": [
    "df=pd.read_csv('All 2020.csv')\n",
    "G=nx.from_pandas_edgelist(df,'side_a','side_b')\n",
    "\n",
    "part = community.best_partition(G)\n",
    "plt.figure(figsize=(10,10), dpi=300)\n",
    "values = [part.get(node) for node in G.nodes()]\n",
    "nx.draw_spring(G, cmap=plt.get_cmap('viridis'), node_color = values, node_size=500, with_labels=True, width=3)\n",
    "plt.savefig('All Conflicts 2020')\n",
    "plt.margins(x=.3)\n",
    "plt.show()"
   ]
  },
  {
   "cell_type": "code",
   "execution_count": null,
   "metadata": {},
   "outputs": [],
   "source": [
    "df = pd.read_csv(\"Clusters by year.csv\")"
   ]
  },
  {
   "cell_type": "code",
   "execution_count": null,
   "metadata": {},
   "outputs": [],
   "source": [
    "df.head()"
   ]
  },
  {
   "cell_type": "code",
   "execution_count": null,
   "metadata": {},
   "outputs": [],
   "source": [
    "df.hist()"
   ]
  },
  {
   "cell_type": "code",
   "execution_count": null,
   "metadata": {},
   "outputs": [],
   "source": [
    "import seaborn as sns\n",
    "\n",
    "#create scatterplot with regression line and confidence interval lines\n",
    "sns.regplot(x=df['Year'],y=df['Violent Clusters'], color='green')"
   ]
  },
  {
   "cell_type": "code",
   "execution_count": null,
   "metadata": {},
   "outputs": [],
   "source": [
    "\n",
    "ax = sns.regplot(x=df['Year'],y=df['Violent Clusters'], data=df,scatter_kws={\"s\": 80},\n",
    "robust=True, ci=None)\n",
    "plt.title('Number of violent clusters by year')\n",
    "plt.savefig('Violent Clusters.png', dpi=300)"
   ]
  },
  {
   "cell_type": "code",
   "execution_count": null,
   "metadata": {},
   "outputs": [],
   "source": []
  }
 ],
 "metadata": {
  "celltoolbar": "Raw Cell Format",
  "kernelspec": {
   "display_name": "Python 3 (ipykernel)",
   "language": "python",
   "name": "python3"
  },
  "language_info": {
   "codemirror_mode": {
    "name": "ipython",
    "version": 3
   },
   "file_extension": ".py",
   "mimetype": "text/x-python",
   "name": "python",
   "nbconvert_exporter": "python",
   "pygments_lexer": "ipython3",
   "version": "3.10.9"
  }
 },
 "nbformat": 4,
 "nbformat_minor": 4
}
