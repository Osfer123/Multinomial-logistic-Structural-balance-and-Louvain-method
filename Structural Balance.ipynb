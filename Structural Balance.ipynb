{
 "cells": [
  {
   "cell_type": "code",
   "execution_count": null,
   "metadata": {},
   "outputs": [],
   "source": [
    "import networkx as nx\n",
    "import matplotlib.pyplot as plt\n",
    "import numpy as np\n",
    "from numpy import genfromtxt\n",
    "import pandas as pd\n"
   ]
  },
  {
   "cell_type": "code",
   "execution_count": null,
   "metadata": {
    "tags": []
   },
   "outputs": [],
   "source": [
    "#Violent Conflicts 2004.\n",
    "#This graph shows the violent conflicts only. Any relationship that does not involve a violent \n",
    "#conflict is graphed as a positive relationship. \n",
    "\n",
    "G = nx.Graph()\n",
    "G.add_edge('Gulf Cartel','Sinaloa Cartel', color='r', sign='-')\n",
    "G.add_edge('Juarez Cartel','Sinaloa Cartel',color='r', sign='-')\n",
    "G.add_edge('Tijuana Cartel','Sinaloa Cartel',color='r', sign='-')\n",
    "G.add_edge('Gulf Cartel','Juarez Cartel',color='g', sign='+')\n",
    "G.add_edge('Gulf Cartel','Tijuana Cartel',color='g', sign='+')\n",
    "G.add_edge('Tijuana Cartel','Juarez Cartel',color='g', sign='+')\n",
    "plt.figure(figsize=(12, 6), dpi=300)\n",
    "pos = nx.circular_layout(G)\n",
    "\n",
    "edges = G.edges()\n",
    "colors = [G[u][v]['color'] for u,v in edges]\n",
    "\n",
    "\n",
    "nx.draw(G, pos, node_size=1500, edge_color=colors, width=5, with_labels=True)\n",
    "plt.savefig('conflicts2004-2007')\n",
    "plt.show(1,2)\n",
    "\n",
    "\n"
   ]
  },
  {
   "cell_type": "code",
   "execution_count": null,
   "metadata": {},
   "outputs": [],
   "source": [
    "print(nx.triangles(G,\"Sinaloa Cartel\"))"
   ]
  },
  {
   "cell_type": "code",
   "execution_count": null,
   "metadata": {},
   "outputs": [],
   "source": [
    "G.nodes()\n",
    "    "
   ]
  },
  {
   "cell_type": "code",
   "execution_count": null,
   "metadata": {},
   "outputs": [],
   "source": [
    "G.number_of_edges()"
   ]
  },
  {
   "cell_type": "code",
   "execution_count": null,
   "metadata": {},
   "outputs": [],
   "source": [
    "for nodes in G:\n",
    "    print(G.degree('Sinaloa Cartel'))"
   ]
  },
  {
   "cell_type": "code",
   "execution_count": null,
   "metadata": {},
   "outputs": [],
   "source": [
    "import itertools\n",
    "nodes = G.nodes()"
   ]
  },
  {
   "cell_type": "code",
   "execution_count": null,
   "metadata": {},
   "outputs": [],
   "source": [
    "triangular_relations = [list(each_tri_combination) for each_tri_combination in itertools.combinations(nodes,3)]"
   ]
  },
  {
   "cell_type": "code",
   "execution_count": null,
   "metadata": {},
   "outputs": [],
   "source": [
    "triangular_relations"
   ]
  },
  {
   "cell_type": "code",
   "execution_count": null,
   "metadata": {},
   "outputs": [],
   "source": [
    "#Let's visualize these triangular relationships\n",
    "def get_signs_of_triangles_list(triangles_list,graph):\n",
    "    all_signs = []\n",
    "    for each_node_in_triangle_list in range(len(triangles_list)):\n",
    "        temp_storage_list = []\n",
    "        temp_storage_list.append(G[triangles_list[each_node_in_triangle_list][0]][triangles_list[each_node_in_triangle_list][1]]['sign'])\n",
    "        temp_storage_list.append(G[triangles_list[each_node_in_triangle_list][0]][triangles_list[each_node_in_triangle_list][2]]['sign'])\n",
    "        temp_storage_list.append(G[triangles_list[each_node_in_triangle_list][1]][triangles_list[each_node_in_triangle_list][2]]['sign'])\n",
    "        all_signs.append(temp_storage_list)\n",
    "    return all_signs"
   ]
  },
  {
   "cell_type": "code",
   "execution_count": null,
   "metadata": {},
   "outputs": [],
   "source": [
    "#storing all the signs in the list\n",
    "all_signs_in_network = get_signs_of_triangles_list(triangular_relations,G)\n",
    "\n",
    "len(all_signs_in_network)"
   ]
  },
  {
   "cell_type": "code",
   "execution_count": null,
   "metadata": {},
   "outputs": [],
   "source": [
    "#print triangles list along with their respective signs\n",
    "for each_tri_combination in range(len(triangular_relations)):\n",
    "    print(triangular_relations[each_tri_combination])\n",
    "    print(all_signs_in_network[each_tri_combination])"
   ]
  },
  {
   "cell_type": "code",
   "execution_count": null,
   "metadata": {},
   "outputs": [],
   "source": [
    "def count_unstable_triangles(all_signs):\n",
    "    number_of_stable_triangles = 0\n",
    "    number_of_unstable_triangles = 0\n",
    "    for each_sign in range(len(all_signs)):\n",
    "        if all_signs[each_sign].count('+') == 3 or all_signs[each_sign].count('+') == 1:\n",
    "            number_of_stable_triangles = number_of_stable_triangles+1\n",
    "        else:\n",
    "            number_of_unstable_triangles = number_of_unstable_triangles+1\n",
    "    print(f\"number of stable_triangles out of {number_of_stable_triangles+number_of_unstable_triangles} are {number_of_stable_triangles}\")\n",
    "    print(f\"number of unstable_triangles out of {number_of_stable_triangles+number_of_unstable_triangles} are {number_of_unstable_triangles}\")  \n",
    "    return number_of_unstable_triangles,number_of_stable_triangles\n",
    "\n",
    "count_unstable_triangles(all_signs_in_network)"
   ]
  },
  {
   "cell_type": "code",
   "execution_count": null,
   "metadata": {},
   "outputs": [],
   "source": []
  },
  {
   "cell_type": "code",
   "execution_count": null,
   "metadata": {},
   "outputs": [],
   "source": [
    "df2 = pd.read_csv('2008N.csv')"
   ]
  },
  {
   "cell_type": "code",
   "execution_count": null,
   "metadata": {},
   "outputs": [],
   "source": [
    "df2"
   ]
  },
  {
   "cell_type": "code",
   "execution_count": null,
   "metadata": {},
   "outputs": [],
   "source": [
    "#Violent Conflicts 2008. This graph shows violent conflicts as red edges, and non-violent\n",
    "#conflicts as green. A second analysis shows both violent and non-violent conflicts\n",
    "# as red edges, and alliances as green edges. \n",
    "\n",
    "G = nx.Graph()\n",
    "G.add_edge('Gulf Cartel','Sinaloa Cartel',color='r', sign='-', sign2='-')\n",
    "G.add_edge('Juarez Cartel','Sinaloa Cartel',color='r', sign='-', sign2='-')\n",
    "G.add_edge('Tijuana Cartel','Sinaloa Cartel',color='y', sign='-', sign2='+')\n",
    "G.add_edge('Gulf Cartel','Juarez Cartel',color='g', sign='+', sign2='+')\n",
    "G.add_edge('Gulf Cartel','Tijuana Cartel',color='g', sign='+', sign2='+')\n",
    "G.add_edge('Tijuana Cartel','Juarez Cartel',color='g', sign='+', sign2='+')\n",
    "G.add_edge('BLO', 'Sinaloa Cartel', color='r', sign='-', sign2='-')\n",
    "G.add_edge('Juarez Cartel', 'BLO', color='g', sign='+', sign2='+')\n",
    "G.add_edge('BLO', 'Gulf Cartel', color='g', sign='+', sign2='+')\n",
    "G.add_edge('BLO', 'Tijuana Cartel', color='g', sign='+', sign2='+')\n",
    "\n",
    "\n",
    "\n",
    "\n",
    "plt.figure(figsize=(12, 6), dpi=300)\n",
    "pos = nx.circular_layout(G)\n",
    "\n",
    "edges = G.edges()\n",
    "colors = [G[u][v]['color'] for u,v in edges]\n",
    "\n",
    "\n",
    "nx.draw(G, pos, node_size=1500, edge_color=colors, width=5, with_labels=True)\n",
    "plt.savefig('conflict2008')"
   ]
  },
  {
   "cell_type": "code",
   "execution_count": null,
   "metadata": {},
   "outputs": [],
   "source": [
    "print(nx.triangles(G,\"Sinaloa Cartel\"))"
   ]
  },
  {
   "cell_type": "code",
   "execution_count": null,
   "metadata": {},
   "outputs": [],
   "source": [
    "G.number_of_edges()"
   ]
  },
  {
   "cell_type": "code",
   "execution_count": null,
   "metadata": {},
   "outputs": [],
   "source": [
    "import itertools\n",
    "nodes = G.nodes()"
   ]
  },
  {
   "cell_type": "code",
   "execution_count": null,
   "metadata": {},
   "outputs": [],
   "source": [
    "triangular_relations = [list(each_tri_combination) for each_tri_combination in itertools.combinations(nodes,3)]"
   ]
  },
  {
   "cell_type": "code",
   "execution_count": null,
   "metadata": {},
   "outputs": [],
   "source": [
    "triangular_relations"
   ]
  },
  {
   "cell_type": "code",
   "execution_count": null,
   "metadata": {},
   "outputs": [],
   "source": [
    "#Let's visualize these triangular relationships\n",
    "#I will create a function to get all the signs of triangles defined in the list\n",
    "def get_signs_of_triangles_list(triangles_list,graph):\n",
    "    all_signs = []\n",
    "    for each_node_in_triangle_list in range(len(triangles_list)):\n",
    "        temp_storage_list = []\n",
    "        temp_storage_list.append(G[triangles_list[each_node_in_triangle_list][0]][triangles_list[each_node_in_triangle_list][1]]['sign'])\n",
    "        temp_storage_list.append(G[triangles_list[each_node_in_triangle_list][0]][triangles_list[each_node_in_triangle_list][2]]['sign'])\n",
    "        temp_storage_list.append(G[triangles_list[each_node_in_triangle_list][1]][triangles_list[each_node_in_triangle_list][2]]['sign'])\n",
    "        all_signs.append(temp_storage_list)\n",
    "    return all_signs"
   ]
  },
  {
   "cell_type": "code",
   "execution_count": null,
   "metadata": {},
   "outputs": [],
   "source": [
    "#storing all the signs in the list\n",
    "all_signs_in_network = get_signs_of_triangles_list(triangular_relations,G)\n",
    "\n",
    "len(all_signs_in_network)"
   ]
  },
  {
   "cell_type": "code",
   "execution_count": null,
   "metadata": {},
   "outputs": [],
   "source": [
    "#print triangles list along with their respective signs\n",
    "for each_tri_combination in range(len(triangular_relations)):\n",
    "    print(triangular_relations[each_tri_combination])\n",
    "    print(all_signs_in_network[each_tri_combination])"
   ]
  },
  {
   "cell_type": "code",
   "execution_count": null,
   "metadata": {},
   "outputs": [],
   "source": [
    "def count_unstable_triangles(all_signs):\n",
    "    number_of_stable_triangles = 0\n",
    "    number_of_unstable_triangles = 0\n",
    "    for each_sign in range(len(all_signs)):\n",
    "        if all_signs[each_sign].count('+') == 3 or all_signs[each_sign].count('+') == 1:\n",
    "            number_of_stable_triangles = number_of_stable_triangles+1\n",
    "        else:\n",
    "            number_of_unstable_triangles = number_of_unstable_triangles+1\n",
    "    print(f\"number of stable_triangles out of {number_of_stable_triangles+number_of_unstable_triangles} are {number_of_stable_triangles}\")\n",
    "    print(f\"number of unstable_triangles out of {number_of_stable_triangles+number_of_unstable_triangles} are {number_of_unstable_triangles}\")  \n",
    "    return number_of_unstable_triangles,number_of_stable_triangles\n",
    "\n",
    "count_unstable_triangles(all_signs_in_network)"
   ]
  },
  {
   "cell_type": "code",
   "execution_count": null,
   "metadata": {},
   "outputs": [],
   "source": [
    "#Let's visualize these triangular relationships considering only violent conflicts \n",
    "#as negative relationships. \n",
    "def get_signs_of_triangles_list(triangles_list,graph):\n",
    "    all_signs = []\n",
    "    for each_node_in_triangle_list in range(len(triangles_list)):\n",
    "        temp_storage_list = []\n",
    "        temp_storage_list.append(G[triangles_list[each_node_in_triangle_list][0]][triangles_list[each_node_in_triangle_list][1]]['sign2'])\n",
    "        temp_storage_list.append(G[triangles_list[each_node_in_triangle_list][0]][triangles_list[each_node_in_triangle_list][2]]['sign2'])\n",
    "        temp_storage_list.append(G[triangles_list[each_node_in_triangle_list][1]][triangles_list[each_node_in_triangle_list][2]]['sign2'])\n",
    "        all_signs.append(temp_storage_list)\n",
    "    return all_signs"
   ]
  },
  {
   "cell_type": "code",
   "execution_count": null,
   "metadata": {},
   "outputs": [],
   "source": [
    "#storing all the signs in the list\n",
    "all_signs_in_network = get_signs_of_triangles_list(triangular_relations,G)\n",
    "\n",
    "len(all_signs_in_network)"
   ]
  },
  {
   "cell_type": "code",
   "execution_count": null,
   "metadata": {},
   "outputs": [],
   "source": [
    "#print triangles list along with their respective signs\n",
    "for each_tri_combination in range(len(triangular_relations)):\n",
    "    print(triangular_relations[each_tri_combination])\n",
    "    print(all_signs_in_network[each_tri_combination])"
   ]
  },
  {
   "cell_type": "code",
   "execution_count": null,
   "metadata": {},
   "outputs": [],
   "source": [
    "count_unstable_triangles(all_signs_in_network)"
   ]
  },
  {
   "cell_type": "code",
   "execution_count": null,
   "metadata": {},
   "outputs": [],
   "source": [
    "df=pd.read_csv('2009N.csv')"
   ]
  },
  {
   "cell_type": "code",
   "execution_count": null,
   "metadata": {},
   "outputs": [],
   "source": [
    "df"
   ]
  },
  {
   "cell_type": "code",
   "execution_count": null,
   "metadata": {},
   "outputs": [],
   "source": [
    "#Violent Conflicts 2009. This graph shows violent conflicts as red edges, and non-violent\n",
    "#conflicts as green. A second analysis shows both violent and non-violent conflicts\n",
    "# as red edges, and alliances as green edges.\n",
    "\n",
    "G= nx.Graph()\n",
    "G.add_edge('Juarez Cartel', 'Sinaloa Cartel', color='r', sign='-', sign2='-')\n",
    "G.add_edge('Gulf Cartel', 'Sinaloa Cartel', color='r', sign='-', sign2='-')\n",
    "G.add_edge('Juarez Cartel', 'Gulf Cartel', color='g', sign='+', sign2='+')\n",
    "G.add_edge('Juarez Cartel', 'Tijuana Cartel', color='g', sign='+', sign2='+')\n",
    "G.add_edge('Gulf Cartel', 'Tijuana Cartel', color='g', sign='+', sign2='+')\n",
    "G.add_edge('Sinaloa Cartel', 'Tijuana Cartel', color='r', sign='-', sign2='+')\n",
    "\n",
    "plt.figure(figsize=(12, 6))\n",
    "pos = nx.circular_layout(G)\n",
    "\n",
    "edges = G.edges()\n",
    "colors = [G[u][v]['color'] for u,v in edges]\n",
    "\n",
    "\n",
    "nx.draw(G, pos, edge_color=colors, width=5, node_size=1500, with_labels=True)"
   ]
  },
  {
   "cell_type": "code",
   "execution_count": null,
   "metadata": {},
   "outputs": [],
   "source": [
    "nodes = G.nodes()\n",
    "triangular_relations2009 = [list(each_tri_combination) for each_tri_combination in itertools.combinations(nodes,3)]"
   ]
  },
  {
   "cell_type": "code",
   "execution_count": null,
   "metadata": {},
   "outputs": [],
   "source": [
    "triangular_relations2009"
   ]
  },
  {
   "cell_type": "code",
   "execution_count": null,
   "metadata": {},
   "outputs": [],
   "source": [
    "#Let's visualize these triangular relationships\n",
    "#I will create a function to get all the signs of triangles defined in the list\n",
    "def get_signs_of_triangles_list(triangles_list,graph):\n",
    "    all_signs = []\n",
    "    for each_node_in_triangle_list in range(len(triangles_list)):\n",
    "        temp_storage_list = []\n",
    "        temp_storage_list.append(G[triangles_list[each_node_in_triangle_list][0]][triangles_list[each_node_in_triangle_list][1]]['sign'])\n",
    "        temp_storage_list.append(G[triangles_list[each_node_in_triangle_list][0]][triangles_list[each_node_in_triangle_list][2]]['sign'])\n",
    "        temp_storage_list.append(G[triangles_list[each_node_in_triangle_list][1]][triangles_list[each_node_in_triangle_list][2]]['sign'])\n",
    "        all_signs.append(temp_storage_list)\n",
    "    return all_signs"
   ]
  },
  {
   "cell_type": "code",
   "execution_count": null,
   "metadata": {},
   "outputs": [],
   "source": [
    "#storing all the signs in the list\n",
    "all_signs_in_network = get_signs_of_triangles_list(triangular_relations2009,G)\n",
    "\n",
    "len(all_signs_in_network)"
   ]
  },
  {
   "cell_type": "code",
   "execution_count": null,
   "metadata": {},
   "outputs": [],
   "source": [
    "count_unstable_triangles(all_signs_in_network)"
   ]
  },
  {
   "cell_type": "code",
   "execution_count": null,
   "metadata": {},
   "outputs": [],
   "source": [
    "#Let's visualize these triangular relationships considering only violent conflicts as negative relationships.\n",
    "def get_signs_of_triangles_list(triangles_list,graph):\n",
    "    all_signs = []\n",
    "    for each_node_in_triangle_list in range(len(triangles_list)):\n",
    "        temp_storage_list = []\n",
    "        temp_storage_list.append(G[triangles_list[each_node_in_triangle_list][0]][triangles_list[each_node_in_triangle_list][1]]['sign2'])\n",
    "        temp_storage_list.append(G[triangles_list[each_node_in_triangle_list][0]][triangles_list[each_node_in_triangle_list][2]]['sign2'])\n",
    "        temp_storage_list.append(G[triangles_list[each_node_in_triangle_list][1]][triangles_list[each_node_in_triangle_list][2]]['sign2'])\n",
    "        all_signs.append(temp_storage_list)\n",
    "    return all_signs"
   ]
  },
  {
   "cell_type": "code",
   "execution_count": null,
   "metadata": {},
   "outputs": [],
   "source": [
    "#storing all the signs in the list\n",
    "all_signs_in_network = get_signs_of_triangles_list(triangular_relations2009,G)\n",
    "\n",
    "len(all_signs_in_network)"
   ]
  },
  {
   "cell_type": "code",
   "execution_count": null,
   "metadata": {},
   "outputs": [],
   "source": [
    "count_unstable_triangles(all_signs_in_network)"
   ]
  },
  {
   "cell_type": "code",
   "execution_count": null,
   "metadata": {},
   "outputs": [],
   "source": [
    "#Violent Conflicts with predatory organizations only\n",
    "\n",
    "G = nx.Graph()\n",
    "G.add_edge('Organization 1','Organization 2',color='g', sign='+')\n",
    "G.add_edge('Organization 2','Organization 3',color='r', sign='-')\n",
    "G.add_edge('Organization 3','Organization 4',color='r', sign='-')\n",
    "G.add_edge('Organization 4','Organization 1',color='r', sign='-')\n",
    "G.add_edge('Organization 2','Organization 4',color='r', sign='-')\n",
    "G.add_edge('Organization 1','Organization 3',color='g', sign='+')\n",
    "G.add_edge('Organization 5','Organization 4',color='g', sign='+')\n",
    "G.add_edge('Organization 2','Organization 4',color='g', sign='+')\n",
    "G.add_edge('Organization 5','Organization 3',color='r', sign='-')\n",
    "\n",
    "\n",
    "plt.figure(figsize=(12, 6), dpi=300)\n",
    "pos = nx.circular_layout(G)\n",
    "\n",
    "edges = G.edges()\n",
    "colors = [G[u][v]['color'] for u,v in edges]\n",
    "\n",
    "nx.draw(G, pos, edge_color=colors, width=5, node_size=1500, with_labels=True)\n",
    "plt.savefig('simulated_conflicts')"
   ]
  },
  {
   "cell_type": "code",
   "execution_count": null,
   "metadata": {},
   "outputs": [],
   "source": [
    "nodes = G.nodes()\n",
    "triangular_relations2009 = [list(each_tri_combination) for each_tri_combination in itertools.combinations(nodes,3)]"
   ]
  },
  {
   "cell_type": "code",
   "execution_count": null,
   "metadata": {},
   "outputs": [],
   "source": [
    "triangular_relations2009"
   ]
  },
  {
   "cell_type": "code",
   "execution_count": null,
   "metadata": {},
   "outputs": [],
   "source": [
    "#Let's visualize these triangular relationships\n",
    "#I will create a function to get all the signs of triangles defined in the list\n",
    "def get_signs_of_triangles_list(triangles_list,graph):\n",
    "    all_signs = []\n",
    "    for each_node_in_triangle_list in range(len(triangles_list)):\n",
    "        temp_storage_list = []\n",
    "        temp_storage_list.append(G[triangles_list[each_node_in_triangle_list][0]][triangles_list[each_node_in_triangle_list][1]]['sign'])\n",
    "        temp_storage_list.append(G[triangles_list[each_node_in_triangle_list][0]][triangles_list[each_node_in_triangle_list][2]]['sign'])\n",
    "        temp_storage_list.append(G[triangles_list[each_node_in_triangle_list][1]][triangles_list[each_node_in_triangle_list][2]]['sign'])\n",
    "        all_signs.append(temp_storage_list)\n",
    "    return all_signs"
   ]
  },
  {
   "cell_type": "code",
   "execution_count": null,
   "metadata": {},
   "outputs": [],
   "source": [
    "#storing all the signs in the list\n",
    "all_signs_in_network = get_signs_of_triangles_list(triangular_relations2009,G)\n",
    "\n",
    "len(all_signs_in_network)\n",
    "\n",
    "count_unstable_triangles(all_signs_in_network)"
   ]
  },
  {
   "cell_type": "code",
   "execution_count": null,
   "metadata": {},
   "outputs": [],
   "source": []
  },
  {
   "cell_type": "code",
   "execution_count": null,
   "metadata": {},
   "outputs": [],
   "source": [
    "#Violent Conflicts 2010. This graph shows violent conflicts as red edges, and non-violent\n",
    "#conflicts as green. A second analysis shows both violent and non-violent conflicts\n",
    "# as red edges, and alliances as green edges.\n",
    "\n",
    "G = nx.Graph()\n",
    "G.add_edge('Gulf Cartel','Sinaloa Cartel',color='g',weight=1,sign='+')\n",
    "G.add_edge('Juarez Cartel','Sinaloa Cartel',color='r',weight=2,sign='-')\n",
    "G.add_edge('Gulf Cartel','Los Zetas',color='r',weight=2,sign='-')\n",
    "G.add_edge('Los Zetas','Sinaloa Cartel',color='r',weight=2,sign='-')\n",
    "G.add_edge('BLO','Sinaloa Cartel',color='r',weight=2,sign='-')\n",
    "G.add_edge('Gulf Cartel','Juarez Cartel',color='r',weight=2,sign='-')\n",
    "G.add_edge('Los Zetas','BLO',color='g',weight=1,sign='+')\n",
    "G.add_edge('Los Zetas','Juarez Cartel',color='g',weight=1,sign='+')\n",
    "G.add_edge('BLO', 'Juarez Cartel', color='g', weight=1,sign='+')\n",
    "G.add_edge('Gulf Cartel','BLO',color='r',weight=2,sign='-')\n",
    "G.add_edge('Juarez Cartel', 'Tijuana Cartel', color='g', sign='+', sign2='+')\n",
    "G.add_edge('Gulf Cartel', 'Tijuana Cartel', color='g', sign='+', sign2='+')\n",
    "G.add_edge('Los Zetas', 'Tijuana Cartel', color='g', sign='+', sign2='+')\n",
    "G.add_edge('BLO', 'Tijuana Cartel', color='g', sign='+', sign2='+')\n",
    "G.add_edge('Gulf Cartel', 'Tijuana Cartel', color='y', sign='-', sign2='+')\n",
    "G.add_edge('Sinaloa Cartel', 'Tijuana Cartel', color='y', sign='-', sign2='+')\n",
    "\n",
    "\n",
    "\n",
    "\n",
    "plt.figure(figsize=(12, 6), dpi=300)\n",
    "pos = nx.circular_layout(G)\n",
    "\n",
    "edges = G.edges()\n",
    "colors = [G[u][v]['color'] for u,v in edges]\n",
    "\n",
    "nx.draw(G, pos, edge_color=colors, width=5, node_size=1500, with_labels=True)\n",
    "plt.savefig('conflicts2010')"
   ]
  },
  {
   "cell_type": "code",
   "execution_count": null,
   "metadata": {},
   "outputs": [],
   "source": [
    "G.number_of_edges()"
   ]
  },
  {
   "cell_type": "code",
   "execution_count": null,
   "metadata": {},
   "outputs": [],
   "source": [
    "import itertools\n",
    "nodes = G.nodes()"
   ]
  },
  {
   "cell_type": "code",
   "execution_count": null,
   "metadata": {},
   "outputs": [],
   "source": [
    "triangular_relations2010 = [list(each_tri_combination) for each_tri_combination in itertools.combinations(nodes,3)]"
   ]
  },
  {
   "cell_type": "code",
   "execution_count": null,
   "metadata": {},
   "outputs": [],
   "source": [
    "triangular_relations2010"
   ]
  },
  {
   "cell_type": "code",
   "execution_count": null,
   "metadata": {},
   "outputs": [],
   "source": [
    "#Let's visualize these triangular relationships\n",
    "#I will create a function to get all the signs of triangles defined in the list\n",
    "def get_signs_of_triangles_list(triangles_list,graph):\n",
    "    all_signs = []\n",
    "    for each_node_in_triangle_list in range(len(triangles_list)):\n",
    "        temp_storage_list = []\n",
    "        temp_storage_list.append(G[triangles_list[each_node_in_triangle_list][0]][triangles_list[each_node_in_triangle_list][1]]['sign'])\n",
    "        temp_storage_list.append(G[triangles_list[each_node_in_triangle_list][0]][triangles_list[each_node_in_triangle_list][2]]['sign'])\n",
    "        temp_storage_list.append(G[triangles_list[each_node_in_triangle_list][1]][triangles_list[each_node_in_triangle_list][2]]['sign'])\n",
    "        all_signs.append(temp_storage_list)\n",
    "    return all_signs"
   ]
  },
  {
   "cell_type": "code",
   "execution_count": null,
   "metadata": {},
   "outputs": [],
   "source": [
    "#storing all the signs in the list\n",
    "all_signs_in_network = get_signs_of_triangles_list(triangular_relations2010,G)\n",
    "\n",
    "len(all_signs_in_network)"
   ]
  },
  {
   "cell_type": "code",
   "execution_count": null,
   "metadata": {},
   "outputs": [],
   "source": [
    "#print triangles list along with their respective signs\n",
    "for each_tri_combination in range(len(triangular_relations2010)):\n",
    "    print(triangular_relations2010[each_tri_combination])\n",
    "    print(all_signs_in_network[each_tri_combination])"
   ]
  },
  {
   "cell_type": "code",
   "execution_count": null,
   "metadata": {},
   "outputs": [],
   "source": [
    "def count_unstable_triangles(all_signs):\n",
    "    number_of_stable_triangles = 0\n",
    "    number_of_unstable_triangles = 0\n",
    "    for each_sign in range(len(all_signs)):\n",
    "        if all_signs[each_sign].count('+') == 3 or all_signs[each_sign].count('+') == 1:\n",
    "            number_of_stable_triangles = number_of_stable_triangles+1\n",
    "        else:\n",
    "            number_of_unstable_triangles = number_of_unstable_triangles+1\n",
    "    print(f\"number of stable_triangles out of {number_of_stable_triangles+number_of_unstable_triangles} are {number_of_stable_triangles}\")\n",
    "    print(f\"number of unstable_triangles out of {number_of_stable_triangles+number_of_unstable_triangles} are {number_of_unstable_triangles}\")  \n",
    "    return number_of_unstable_triangles,number_of_stable_triangles\n",
    "\n",
    "count_unstable_triangles(all_signs_in_network)"
   ]
  },
  {
   "cell_type": "code",
   "execution_count": null,
   "metadata": {},
   "outputs": [],
   "source": [
    "#Let's visualize these triangular relationships in 2010 only considering violent conflicts as negative relationships.\n",
    "def get_signs_of_triangles_list(triangles_list,graph):\n",
    "    all_signs = []\n",
    "    for each_node_in_triangle_list in range(len(triangles_list)):\n",
    "        temp_storage_list = []\n",
    "        temp_storage_list.append(G[triangles_list[each_node_in_triangle_list][0]][triangles_list[each_node_in_triangle_list][1]]['sign2'])\n",
    "        temp_storage_list.append(G[triangles_list[each_node_in_triangle_list][0]][triangles_list[each_node_in_triangle_list][2]]['sign2'])\n",
    "        temp_storage_list.append(G[triangles_list[each_node_in_triangle_list][1]][triangles_list[each_node_in_triangle_list][2]]['sign2'])\n",
    "        all_signs.append(temp_storage_list)\n",
    "    return all_signs"
   ]
  },
  {
   "cell_type": "code",
   "execution_count": null,
   "metadata": {},
   "outputs": [],
   "source": [
    "count_unstable_triangles(all_signs_in_network)"
   ]
  },
  {
   "cell_type": "code",
   "execution_count": null,
   "metadata": {
    "scrolled": true,
    "tags": []
   },
   "outputs": [],
   "source": [
    "#Violent Conflicts 2011. In this graph I will not include organizations that only have local conflicts\n",
    "# with other organizations (conflicts within a single state). This graph shows violent conflicts as red edges, and non-violent\n",
    "#conflicts as green. A second analysis shows both violent and non-violent conflicts\n",
    "# as red edges, and alliances as green edges.\n",
    "\n",
    "G=nx.Graph()\n",
    "G.add_edge('Juarez Cartel', 'Sinaloa Cartel', color='r', sign='-', sign2='-')\n",
    "G.add_edge('Gulf Cartel', 'Los Zetas', color='r', sign='-', sign2='-')\n",
    "G.add_edge('Los Zetas', 'Sinaloa Cartel', color='r', sign='-', sign2='-' )\n",
    "G.add_edge('CJNG', 'Los Zetas', color='r', sign='-', sign2='-')\n",
    "G.add_edge('BLO', 'Sinaloa Cartel', color='r', sign='-', sign2='-')\n",
    "G.add_edge('Juarez Cartel', 'Los Zetas', color='g', sign='+', sign2='+')\n",
    "G.add_edge('Juarez Cartel', 'BLO', color='g', sign='+', sign2='+')\n",
    "G.add_edge('Juarez Cartel', 'Gulf Cartel', color='y', sign='-', sign2='+')\n",
    "G.add_edge('Sinaloa Cartel', 'CJNG', color='r', sign='+', sign2='+')\n",
    "G.add_edge('Sinaloa Cartel', 'Gulf Cartel', color='g', sign='+', sign2='+')\n",
    "G.add_edge('Los Zetas', 'BLO', color='g', sign='+', sign2='+')\n",
    "G.add_edge('Juarez Cartel', 'CJNG', color='g', sign='+', sign2='+')\n",
    "G.add_edge('Gulf Cartel', 'CJNG', color='g', sign='+', sign2='+')\n",
    "G.add_edge('Gulf Cartel', 'BLO', color='y', sign='-', sign2='+')\n",
    "G.add_edge('CJNG', 'BLO', color='y', sign='-', sign2='+')\n",
    "G.add_edge('Los Caballeros Templarios', 'Gulf Cartel', color='g', sign='+', sign2='+')\n",
    "G.add_edge('Los Caballeros Templarios', 'BLO', color='g', sign='+', sign2='+')\n",
    "G.add_edge('Los Caballeros Templarios', 'Sinaloa Cartel', color='g', sign='+', sign2='+')\n",
    "G.add_edge('Los Caballeros Templarios', 'CJNG', color='y', sign='-', sign2='+')\n",
    "G.add_edge('Los Caballeros Templarios', 'Los Zetas', color='y', sign='-', sign2='+')\n",
    "G.add_edge('La Familia', 'Los Caballeros Templarios', color='r', sign='-', sign2='-')\n",
    "G.add_edge('Los Caballeros Templarios', 'Juarez Cartel', color='y', sign='-', sign2='+')\n",
    "G.add_edge('La Familia', 'Sinaloa Cartel', color='g', sign='+', sign2='+')\n",
    "G.add_edge('Los Zetas', 'La Familia', color='y', sign='-', sign2='+')\n",
    "G.add_edge('La Familia', 'BLO', color='r', sign='-', sign2='+')\n",
    "G.add_edge('La Familia', 'Gulf Cartel', color='g', sign='+', sign2='+')\n",
    "G.add_edge('La Familia', 'Juarez Cartel', color='y', sign='-', sign2='+')\n",
    "G.add_edge('La Familia', 'CJNG', color='y', sign='-', sign2='+')\n",
    "G.add_edge('CIDA', 'Juarez Cartel', color='g', sign='+', sign2='+')\n",
    "G.add_edge('CIDA', 'Sinaloa Cartel', color='y', sign='-', sign2='+')\n",
    "G.add_edge('CIDA', 'Gulf Cartel', color='y', sign='-', sign2='+')\n",
    "G.add_edge('CIDA', 'Los Zetas', color='g', sign='+', sign2='+')\n",
    "G.add_edge('CIDA', 'CJNG', color='y', sign='-', sign2='+')\n",
    "G.add_edge('CIDA', 'BLO', color='g', sign='+', sign2='+')\n",
    "G.add_edge('CIDA', 'Los Caballeros Templarios', color='y', sign='-', sign2='+')\n",
    "G.add_edge('CIDA', 'La Familia', color='g', sign='+', sign2='+')\n",
    "\n",
    "\n",
    "plt.figure(figsize=(12, 6), dpi=300)\n",
    "pos = nx.circular_layout(G)\n",
    "\n",
    "edges = G.edges()\n",
    "colors = [G[u][v]['color'] for u,v in edges]\n",
    "\n",
    "nx.draw(G, pos, edge_color=colors, width=5, node_size=1500,  with_labels=True)\n",
    "plt.savefig('conflicts2011')\n",
    "\n"
   ]
  },
  {
   "cell_type": "code",
   "execution_count": null,
   "metadata": {},
   "outputs": [],
   "source": [
    "G.number_of_edges()"
   ]
  },
  {
   "cell_type": "code",
   "execution_count": null,
   "metadata": {},
   "outputs": [],
   "source": [
    "import itertools\n",
    "nodes = G.nodes()\n",
    "triangular_relations = [list(each_tri_combination) for each_tri_combination in itertools.combinations(nodes,3)]\n",
    "triangular_relations\n",
    "\n"
   ]
  },
  {
   "cell_type": "code",
   "execution_count": null,
   "metadata": {},
   "outputs": [],
   "source": [
    "len(triangular_relations)"
   ]
  },
  {
   "cell_type": "code",
   "execution_count": null,
   "metadata": {},
   "outputs": [],
   "source": [
    "#Let's visualize these triangular relationships for 2011. Both violent and non-violent conflicts \n",
    "#I will create a function to get all the signs of triangles defined in the list\n",
    "def get_signs_of_triangles_list(triangles_list,graph):\n",
    "    all_signs = []\n",
    "    for each_node_in_triangle_list in range(len(triangles_list)):\n",
    "        temp_storage_list = []\n",
    "        temp_storage_list.append(G[triangles_list[each_node_in_triangle_list][0]][triangles_list[each_node_in_triangle_list][1]]['sign'])\n",
    "        temp_storage_list.append(G[triangles_list[each_node_in_triangle_list][0]][triangles_list[each_node_in_triangle_list][2]]['sign'])\n",
    "        temp_storage_list.append(G[triangles_list[each_node_in_triangle_list][1]][triangles_list[each_node_in_triangle_list][2]]['sign'])\n",
    "        all_signs.append(temp_storage_list)\n",
    "    return all_signs"
   ]
  },
  {
   "cell_type": "code",
   "execution_count": null,
   "metadata": {},
   "outputs": [],
   "source": [
    "#storing all the signs in the list\n",
    "all_signs_in_network = get_signs_of_triangles_list(triangular_relations,G)\n",
    "\n",
    "len(all_signs_in_network)"
   ]
  },
  {
   "cell_type": "code",
   "execution_count": null,
   "metadata": {},
   "outputs": [],
   "source": [
    "def count_unstable_triangles(all_signs):\n",
    "    number_of_stable_triangles = 0\n",
    "    number_of_unstable_triangles = 0\n",
    "    for each_sign in range(len(all_signs)):\n",
    "        if all_signs[each_sign].count('+') == 3 or all_signs[each_sign].count('+') == 1:\n",
    "            number_of_stable_triangles = number_of_stable_triangles+1\n",
    "        else:\n",
    "            number_of_unstable_triangles = number_of_unstable_triangles+1\n",
    "    print(f\"number of stable_triangles out of {number_of_stable_triangles+number_of_unstable_triangles} are {number_of_stable_triangles}\")\n",
    "    print(f\"number of unstable_triangles out of {number_of_stable_triangles+number_of_unstable_triangles} are {number_of_unstable_triangles}\")  \n",
    "    return number_of_unstable_triangles,number_of_stable_triangles\n",
    "\n",
    "count_unstable_triangles(all_signs_in_network)"
   ]
  },
  {
   "cell_type": "code",
   "execution_count": null,
   "metadata": {},
   "outputs": [],
   "source": [
    "#Let's visualize these triangular relationships for 2011. This time we will only consider violent conflicts. \n",
    "def get_signs_of_triangles_list(triangles_list,graph):\n",
    "    all_signs = []\n",
    "    for each_node_in_triangle_list in range(len(triangles_list)):\n",
    "        temp_storage_list = []\n",
    "        temp_storage_list.append(G[triangles_list[each_node_in_triangle_list][0]][triangles_list[each_node_in_triangle_list][1]]['sign2'])\n",
    "        temp_storage_list.append(G[triangles_list[each_node_in_triangle_list][0]][triangles_list[each_node_in_triangle_list][2]]['sign2'])\n",
    "        temp_storage_list.append(G[triangles_list[each_node_in_triangle_list][1]][triangles_list[each_node_in_triangle_list][2]]['sign2'])\n",
    "        all_signs.append(temp_storage_list)\n",
    "    return all_signs"
   ]
  },
  {
   "cell_type": "code",
   "execution_count": null,
   "metadata": {},
   "outputs": [],
   "source": [
    "#storing all the signs in the list\n",
    "all_signs_in_network = get_signs_of_triangles_list(triangular_relations,G)\n",
    "\n",
    "len(all_signs_in_network)"
   ]
  },
  {
   "cell_type": "code",
   "execution_count": null,
   "metadata": {},
   "outputs": [],
   "source": [
    "count_unstable_triangles(all_signs_in_network)"
   ]
  },
  {
   "cell_type": "code",
   "execution_count": null,
   "metadata": {},
   "outputs": [],
   "source": [
    "#Violent Conflicts 2012-2017. In this graph I will not include organizations that only have local conflicts\n",
    "# with other organizations (conflicts within a single state). This graph shows violent conflicts as red edges, and non-violent\n",
    "#conflicts as green. A second analysis shows both violent and non-violent conflicts\n",
    "# as red edges, and alliances as green edges. The result is exactly the same as the analysis done for 2011\n",
    "\n",
    "G=nx.Graph()\n",
    "G.add_edge('Juarez Cartel', 'Sinaloa Cartel', color='r', sign='-', sign2='-')\n",
    "G.add_edge('Gulf Cartel', 'Los Zetas', color='r', sign='-', sign2='-')\n",
    "G.add_edge('Los Zetas', 'Sinaloa Cartel', color='r', sign='-', sign2='-' )\n",
    "G.add_edge('CJNG', 'Los Zetas', color='r', sign='-', sign2='-')\n",
    "G.add_edge('BLO', 'Sinaloa Cartel', color='r', sign='-', sign2='-')\n",
    "G.add_edge('Juarez Cartel', 'Los Zetas', color='g', sign='+', sign2='+')\n",
    "G.add_edge('Juarez Cartel', 'BLO', color='g', sign='+', sign2='+')\n",
    "G.add_edge('Juarez Cartel', 'Gulf Cartel', color='y', sign='-', sign2='+')\n",
    "G.add_edge('Sinaloa Cartel', 'CJNG', color='r', sign='+', sign2='+')\n",
    "G.add_edge('Sinaloa Cartel', 'Gulf Cartel', color='g', sign='+', sign2='+')\n",
    "G.add_edge('Los Zetas', 'BLO', color='g', sign='+', sign2='+')\n",
    "G.add_edge('Juarez Cartel', 'CJNG', color='g', sign='+', sign2='+')\n",
    "G.add_edge('Gulf Cartel', 'CJNG', color='g', sign='+', sign2='+')\n",
    "G.add_edge('Gulf Cartel', 'BLO', color='y', sign='-', sign2='+')\n",
    "G.add_edge('CJNG', 'BLO', color='r', sign='-', sign2='+')\n",
    "G.add_edge('Los Caballeros Templarios', 'Gulf Cartel', color='g', sign='+', sign2='+')\n",
    "G.add_edge('Los Caballeros Templarios', 'BLO', color='g', sign='+', sign2='+')\n",
    "G.add_edge('Los Caballeros Templarios', 'Sinaloa Cartel', color='g', sign='+', sign2='+')\n",
    "G.add_edge('Los Caballeros Templarios', 'CJNG', color='y', sign='-', sign2='+')\n",
    "G.add_edge('Los Caballeros Templarios', 'Los Zetas', color='y', sign='-', sign2='+')\n",
    "G.add_edge('La Familia', 'Los Caballeros Templarios', color='r', sign='-', sign2='-')\n",
    "G.add_edge('Los Caballeros Templarios', 'Juarez Cartel', color='y', sign='-', sign2='+')\n",
    "G.add_edge('La Familia', 'Sinaloa Cartel', color='g', sign='+', sign2='+')\n",
    "G.add_edge('Los Zetas', 'La Familia', color='r', sign='-', sign2='-')\n",
    "G.add_edge('La Familia', 'BLO', color='r', sign='-', sign2='+')\n",
    "G.add_edge('La Familia', 'Gulf Cartel', color='y', sign='-', sign2='+')\n",
    "G.add_edge('La Familia', 'Juarez Cartel', color='y', sign='-', sign2='+')\n",
    "G.add_edge('La Familia', 'CJNG', color='y', sign='-', sign2='+')\n",
    "G.add_edge('CIDA', 'Juarez Cartel', color='g', sign='+', sign2='+')\n",
    "G.add_edge('CIDA', 'Sinaloa Cartel', color='y', sign='-', sign2='+')\n",
    "G.add_edge('CIDA', 'Gulf Cartel', color='y', sign='-', sign2='+')\n",
    "G.add_edge('CIDA', 'Los Zetas', color='g', sign='+', sign2='+')\n",
    "G.add_edge('CIDA', 'CJNG', color='y', sign='-', sign2='+')\n",
    "G.add_edge('CIDA', 'BLO', color='g', sign='+', sign2='+')\n",
    "G.add_edge('CIDA', 'Los Caballeros Templarios', color='y', sign='-', sign2='+')\n",
    "G.add_edge('CIDA', 'La Familia', color='g', sign='+', sign2='+')\n",
    "G.add_edge('CIDA', 'Guerreros Unidos', color='g', sign='+', sign2='+')\n",
    "G.add_edge('Guerreros Unidos', 'Juarez Cartel', color='g', sign='+', sign2='+')\n",
    "G.add_edge('Guerreros Unidos', 'Sinaloa Cartel', color='y', sign='-', sign2='+')\n",
    "G.add_edge('Guerreros Unidos', 'Los Zetas', color='g', sign='+', sign2='+')\n",
    "G.add_edge('Guerreros Unidos', 'CJNG', color='g', sign='+', sign2='+')\n",
    "G.add_edge('Guerreros Unidos', 'BLO', color='g', sign='+', sign2='+')\n",
    "G.add_edge('Guerreros Unidos', 'Los Caballeros Templarios', color='y', sign='-', sign2='+')\n",
    "G.add_edge('Guerreros Unidos', 'La Familia', color='g', sign='+', sign2='+')\n",
    "G.add_edge('Guerreros Unidos', 'Gulf Cartel', color='y', sign='-', sign2='+')\n",
    "\n",
    "\n",
    "plt.figure(figsize=(10, 6), dpi=300)\n",
    "plt.margins(x=.2)\n",
    "ax = plt.gca()\n",
    "ax.set_title('2012-2017')\n",
    "pos = nx.circular_layout(G)\n",
    "\n",
    "edges = G.edges()\n",
    "colors = [G[u][v]['color'] for u,v in edges]\n",
    "\n",
    "nx.draw(G, pos, edge_color=colors, width=5,  with_labels=True)\n",
    "plt.savefig('conflcts2012-2017')"
   ]
  },
  {
   "cell_type": "code",
   "execution_count": null,
   "metadata": {},
   "outputs": [],
   "source": [
    "selected_edges = [(u,v) for u,v,e in G.edges(data=True) if e['color'] == 'y']\n",
    "print (selected_edges)"
   ]
  },
  {
   "cell_type": "code",
   "execution_count": null,
   "metadata": {},
   "outputs": [],
   "source": [
    "G.number_of_edges()"
   ]
  },
  {
   "cell_type": "code",
   "execution_count": null,
   "metadata": {},
   "outputs": [],
   "source": [
    "import itertools\n",
    "nodes = G.nodes()\n",
    "triangular_relations = [list(each_tri_combination) for each_tri_combination in itertools.combinations(nodes,3)]\n"
   ]
  },
  {
   "cell_type": "code",
   "execution_count": null,
   "metadata": {},
   "outputs": [],
   "source": [
    "len(triangular_relations)"
   ]
  },
  {
   "cell_type": "code",
   "execution_count": null,
   "metadata": {},
   "outputs": [],
   "source": [
    "#Let's visualize these triangular relationships for 2011. Both violent and non-violent conflicts \n",
    "#I will create a function to get all the signs of triangles defined in the list\n",
    "def get_signs_of_triangles_list(triangles_list,graph):\n",
    "    all_signs = []\n",
    "    for each_node_in_triangle_list in range(len(triangles_list)):\n",
    "        temp_storage_list = []\n",
    "        temp_storage_list.append(G[triangles_list[each_node_in_triangle_list][0]][triangles_list[each_node_in_triangle_list][1]]['sign'])\n",
    "        temp_storage_list.append(G[triangles_list[each_node_in_triangle_list][0]][triangles_list[each_node_in_triangle_list][2]]['sign'])\n",
    "        temp_storage_list.append(G[triangles_list[each_node_in_triangle_list][1]][triangles_list[each_node_in_triangle_list][2]]['sign'])\n",
    "        all_signs.append(temp_storage_list)\n",
    "    return all_signs"
   ]
  },
  {
   "cell_type": "code",
   "execution_count": null,
   "metadata": {},
   "outputs": [],
   "source": [
    "#storing all the signs in the list\n",
    "all_signs_in_network = get_signs_of_triangles_list(triangular_relations,G)\n",
    "\n",
    "len(all_signs_in_network)"
   ]
  },
  {
   "cell_type": "code",
   "execution_count": null,
   "metadata": {},
   "outputs": [],
   "source": [
    "def count_unstable_triangles(all_signs):\n",
    "    number_of_stable_triangles = 0\n",
    "    number_of_unstable_triangles = 0\n",
    "    for each_sign in range(len(all_signs)):\n",
    "        if all_signs[each_sign].count('+') == 3 or all_signs[each_sign].count('+') == 1:\n",
    "            number_of_stable_triangles = number_of_stable_triangles+1\n",
    "        else:\n",
    "            number_of_unstable_triangles = number_of_unstable_triangles+1\n",
    "    print(f\"number of stable_triangles out of {number_of_stable_triangles+number_of_unstable_triangles} are {number_of_stable_triangles}\")\n",
    "    print(f\"number of unstable_triangles out of {number_of_stable_triangles+number_of_unstable_triangles} are {number_of_unstable_triangles}\")  \n",
    "    return number_of_unstable_triangles,number_of_stable_triangles\n",
    "\n",
    "count_unstable_triangles(all_signs_in_network)"
   ]
  },
  {
   "cell_type": "code",
   "execution_count": null,
   "metadata": {},
   "outputs": [],
   "source": []
  },
  {
   "cell_type": "code",
   "execution_count": null,
   "metadata": {},
   "outputs": [],
   "source": [
    "#Violent Conflicts 2013. In this graph I will not include organizations that only have local conflicts\n",
    "# with other organizations (conflicts within a single state). This graph shows violent conflicts as red edges, and non-violent\n",
    "#conflicts as green. A second analysis shows both violent and non-violent conflicts\n",
    "# as red edges, and alliances as green edges.The result is exactly the same as the analysis done for 2011 and 2012.\n",
    "\n",
    "\n",
    "\n",
    "G=nx.Graph()\n",
    "G.add_edge('Juarez Cartel', 'Sinaloa Cartel', color='r', sign='-', sign2='-')\n",
    "G.add_edge('Gulf Cartel', 'Los Zetas', color='r', sign='-', sign2='-')\n",
    "G.add_edge('Los Zetas', 'Sinaloa Cartel', color='r', sign='-', sign2='-' )\n",
    "G.add_edge('CJNG', 'Los Zetas', color='r', sign='-', sign2='-')\n",
    "G.add_edge('BLO', 'Sinaloa Cartel', color='r', sign='-', sign2='-')\n",
    "G.add_edge('Juarez Cartel', 'Los Zetas', color='g', sign='+', sign2='+')\n",
    "G.add_edge('Juarez Cartel', 'BLO', color='g', sign='+', sign2='+')\n",
    "G.add_edge('Juarez Cartel', 'Gulf Cartel', color='y', sign='-', sign2='+')\n",
    "G.add_edge('Sinaloa Cartel', 'CJNG', color='r', sign='-', sign2='-')\n",
    "G.add_edge('Sinaloa Cartel', 'Gulf Cartel', color='g', sign='+', sign2='+')\n",
    "G.add_edge('Los Zetas', 'BLO', color='g', sign='+', sign2='+')\n",
    "G.add_edge('Juarez Cartel', 'CJNG', color='g', sign='+', sign2='+')\n",
    "G.add_edge('Gulf Cartel', 'CJNG', color='g', sign='+', sign2='+')\n",
    "G.add_edge('Gulf Cartel', 'BLO', color='y', sign='-', sign2='+')\n",
    "G.add_edge('CJNG', 'BLO', color='y', sign='-', sign2='+')\n",
    "G.add_edge('Los Caballeros Templarios', 'Gulf Cartel', color='g', sign='+', sign2='+')\n",
    "G.add_edge('Los Caballeros Templarios', 'BLO', color='g', sign='+', sign2='+')\n",
    "G.add_edge('Los Caballeros Templarios', 'Sinaloa Cartel', color='g', sign='+', sign2='+')\n",
    "G.add_edge('Los Caballeros Templarios', 'CJNG', color='y', sign='-', sign2='+')\n",
    "G.add_edge('Los Caballeros Templarios', 'Los Zetas', color='y', sign='-', sign2='+')\n",
    "G.add_edge('La Familia', 'Los Caballeros Templarios', color='r', sign='-', sign2='-')\n",
    "G.add_edge('Los Caballeros Templarios', 'Juarez Cartel', color='y', sign='-', sign2='+')\n",
    "G.add_edge('La Familia', 'Sinaloa Cartel', color='g', sign='+', sign2='+')\n",
    "G.add_edge('Los Zetas', 'La Familia', color='g', sign='+', sign2='+')\n",
    "G.add_edge('La Familia', 'BLO', color='y', sign='-', sign2='+')\n",
    "G.add_edge('La Familia', 'Gulf Cartel', color='y', sign='-', sign2='+')\n",
    "G.add_edge('La Familia', 'Juarez Cartel', color='y', sign='-', sign2='+')\n",
    "G.add_edge('La Familia', 'CJNG', color='y', sign='-', sign2='+')\n",
    "G.add_edge('CIDA', 'Juarez Cartel', color='g', sign='+', sign2='+')\n",
    "G.add_edge('CIDA', 'Sinaloa Cartel', color='y', sign='-', sign2='+')\n",
    "G.add_edge('CIDA', 'Gulf Cartel', color='y', sign='-', sign2='+')\n",
    "G.add_edge('CIDA', 'Los Zetas', color='g', sign='+', sign2='+')\n",
    "G.add_edge('CIDA', 'CJNG', color='y', sign='-', sign2='+')\n",
    "G.add_edge('CIDA', 'BLO', color='g', sign='+', sign2='+')\n",
    "G.add_edge('CIDA', 'Los Caballeros Templarios', color='y', sign='-', sign2='+')\n",
    "G.add_edge('CIDA', 'La Familia', color='g', sign='+', sign2='+')\n",
    "G.add_edge('CIDA', 'Guerreros Unidos', color='g', sign='+', sign2='+')\n",
    "G.add_edge('Guerreros Unidos', 'Juarez Cartel', color='g', sign='+', sign2='+')\n",
    "G.add_edge('Guerreros Unidos', 'Sinaloa Cartel', color='y', sign='-', sign2='+')\n",
    "G.add_edge('Guerreros Unidos', 'Los Zetas', color='g', sign='+', sign2='+')\n",
    "G.add_edge('Guerreros Unidos', 'CJNG', color='g', sign='+', sign2='+')\n",
    "G.add_edge('Guerreros Unidos', 'BLO', color='g', sign='+', sign2='+')\n",
    "G.add_edge('Guerreros Unidos', 'Los Caballeros Templarios', color='y', sign='-', sign2='+')\n",
    "G.add_edge('Guerreros Unidos', 'La Familia', color='g', sign='+', sign2='+')\n",
    "G.add_edge('Guerreros Unidos', 'Gulf Cartel', color='y', sign='-', sign2='+')\n",
    "\n",
    "plt.figure(figsize=(12, 6), dpi=300)\n",
    "pos = nx.circular_layout(G)\n",
    "\n",
    "edges = G.edges()\n",
    "colors = [G[u][v]['color'] for u,v in edges]\n",
    "\n",
    "nx.draw(G, pos, edge_color=colors, width=5, node_size=1500,  with_labels=True)\n"
   ]
  },
  {
   "cell_type": "code",
   "execution_count": null,
   "metadata": {},
   "outputs": [],
   "source": [
    "import itertools\n",
    "nodes = G.nodes()\n",
    "triangular_relations = [list(each_tri_combination) for each_tri_combination in itertools.combinations(nodes,3)]\n",
    "\n",
    "len(triangular_relations)"
   ]
  },
  {
   "cell_type": "code",
   "execution_count": null,
   "metadata": {},
   "outputs": [],
   "source": [
    "selected_edges = [(u,v) for u,v,e in G.edges(data=True) if e['color'] == 'y']\n",
    "print (selected_edges)"
   ]
  },
  {
   "cell_type": "code",
   "execution_count": null,
   "metadata": {},
   "outputs": [],
   "source": [
    "#Let's visualize these triangular relationships for 2011. Both violent and non-violent conflicts \n",
    "#I will create a function to get all the signs of triangles defined in the list\n",
    "def get_signs_of_triangles_list(triangles_list,graph):\n",
    "    all_signs = []\n",
    "    for each_node_in_triangle_list in range(len(triangles_list)):\n",
    "        temp_storage_list = []\n",
    "        temp_storage_list.append(G[triangles_list[each_node_in_triangle_list][0]][triangles_list[each_node_in_triangle_list][1]]['sign'])\n",
    "        temp_storage_list.append(G[triangles_list[each_node_in_triangle_list][0]][triangles_list[each_node_in_triangle_list][2]]['sign'])\n",
    "        temp_storage_list.append(G[triangles_list[each_node_in_triangle_list][1]][triangles_list[each_node_in_triangle_list][2]]['sign'])\n",
    "        all_signs.append(temp_storage_list)\n",
    "    return all_signs\n",
    "\n",
    "#storing all the signs in the list\n",
    "all_signs_in_network = get_signs_of_triangles_list(triangular_relations,G)\n",
    "\n",
    "len(all_signs_in_network)"
   ]
  },
  {
   "cell_type": "code",
   "execution_count": null,
   "metadata": {},
   "outputs": [],
   "source": [
    "def count_unstable_triangles(all_signs):\n",
    "    number_of_stable_triangles = 0\n",
    "    number_of_unstable_triangles = 0\n",
    "    for each_sign in range(len(all_signs)):\n",
    "        if all_signs[each_sign].count('+') == 3 or all_signs[each_sign].count('+') == 1:\n",
    "            number_of_stable_triangles = number_of_stable_triangles+1\n",
    "        else:\n",
    "            number_of_unstable_triangles = number_of_unstable_triangles+1\n",
    "    print(f\"number of stable_triangles out of {number_of_stable_triangles+number_of_unstable_triangles} are {number_of_stable_triangles}\")\n",
    "    print(f\"number of unstable_triangles out of {number_of_stable_triangles+number_of_unstable_triangles} are {number_of_unstable_triangles}\")  \n",
    "    return number_of_unstable_triangles,number_of_stable_triangles\n",
    "\n",
    "count_unstable_triangles(all_signs_in_network)"
   ]
  },
  {
   "cell_type": "code",
   "execution_count": null,
   "metadata": {},
   "outputs": [],
   "source": []
  },
  {
   "cell_type": "code",
   "execution_count": null,
   "metadata": {},
   "outputs": [],
   "source": []
  },
  {
   "cell_type": "code",
   "execution_count": null,
   "metadata": {},
   "outputs": [],
   "source": [
    "#Violent Conflicts 2014. In this graph I will not include organizations that only have local conflicts\n",
    "# with other organizations (conflicts within a single state). This graph shows violent conflicts as red edges, and non-violent\n",
    "#conflicts as green. A second analysis shows both violent and non-violent conflicts\n",
    "# as red edges, and alliances as green edges.\n",
    "\n",
    "G=nx.Graph()\n",
    "G.add_edge('Juarez Cartel', 'Sinaloa Cartel', color='r', sign='-', sign2='-')\n",
    "G.add_edge('Gulf Cartel', 'Los Zetas', color='r', sign='-', sign2='-')\n",
    "G.add_edge('Los Zetas', 'Sinaloa Cartel', color='r', sign='-', sign2='-' )\n",
    "G.add_edge('CJNG', 'Los Zetas', color='r', sign='-', sign2='-')\n",
    "G.add_edge('BLO', 'Sinaloa Cartel', color='r', sign='-', sign2='-')\n",
    "G.add_edge('Juarez Cartel', 'Los Zetas', color='g', sign='+', sign2='+')\n",
    "G.add_edge('Juarez Cartel', 'BLO', color='g', sign='+', sign2='+')\n",
    "G.add_edge('Juarez Cartel', 'Gulf Cartel', color='y', sign='-', sign2='+')\n",
    "G.add_edge('Sinaloa Cartel', 'CJNG', color='r', sign='-', sign2='-')\n",
    "G.add_edge('Sinaloa Cartel', 'Gulf Cartel', color='g', sign='+', sign2='+')\n",
    "G.add_edge('Los Zetas', 'BLO', color='g', sign='+', sign2='+')\n",
    "G.add_edge('Juarez Cartel', 'CJNG', color='g', sign='+', sign2='+')\n",
    "G.add_edge('Gulf Cartel', 'CJNG', color='g', sign='+', sign2='+')\n",
    "G.add_edge('Gulf Cartel', 'BLO', color='y', sign='-', sign2='+')\n",
    "G.add_edge('CJNG', 'BLO', color='g', sign='+', sign2='+')\n",
    "G.add_edge('Los Caballeros Templarios', 'Gulf Cartel', color='g', sign='+', sign2='+')\n",
    "G.add_edge('Los Caballeros Templarios', 'BLO', color='g', sign='+', sign2='+')\n",
    "G.add_edge('Los Caballeros Templarios', 'Sinaloa Cartel', color='g', sign='+', sign2='+')\n",
    "G.add_edge('Los Caballeros Templarios', 'CJNG', color='y', sign='-', sign2='+')\n",
    "G.add_edge('Los Caballeros Templarios', 'Los Zetas', color='y', sign='-', sign2='+')\n",
    "G.add_edge('La Familia', 'Los Caballeros Templarios', color='r', sign='-', sign2='-')\n",
    "G.add_edge('Los Caballeros Templarios', 'Juarez Cartel', color='y', sign='-', sign2='+')\n",
    "G.add_edge('La Familia', 'Sinaloa Cartel', color='g', sign='+', sign2='+')\n",
    "G.add_edge('Los Zetas', 'La Familia', color='g', sign='+', sign2='+')\n",
    "G.add_edge('La Familia', 'BLO', color='y', sign='-', sign2='+')\n",
    "G.add_edge('La Familia', 'Gulf Cartel', color='y', sign='-', sign2='+')\n",
    "G.add_edge('La Familia', 'Juarez Cartel', color='y', sign='-', sign2='+')\n",
    "G.add_edge('La Familia', 'CJNG', color='y', sign='-', sign2='+')\n",
    "G.add_edge('CIDA', 'Juarez Cartel', color='g', sign='+', sign2='+')\n",
    "G.add_edge('CIDA', 'Sinaloa Cartel', color='y', sign='-', sign2='+')\n",
    "G.add_edge('CIDA', 'Gulf Cartel', color='y', sign='-', sign2='+')\n",
    "G.add_edge('CIDA', 'Los Zetas', color='g', sign='+', sign2='+')\n",
    "G.add_edge('CIDA', 'CJNG', color='y', sign='-', sign2='+')\n",
    "G.add_edge('CIDA', 'BLO', color='g', sign='+', sign2='+')\n",
    "G.add_edge('CIDA', 'Los Caballeros Templarios', color='y', sign='-', sign2='+')\n",
    "G.add_edge('CIDA', 'La Familia', color='g', sign='+', sign2='+')\n",
    "G.add_edge('CIDA', 'Guerreros Unidos', color='g', sign='+', sign2='+')\n",
    "G.add_edge('Guerreros Unidos', 'Juarez Cartel', color='g', sign='+', sign2='+')\n",
    "G.add_edge('Guerreros Unidos', 'Sinaloa Cartel', color='y', sign='-', sign2='+')\n",
    "G.add_edge('Guerreros Unidos', 'Los Zetas', color='g', sign='+', sign2='+')\n",
    "G.add_edge('Guerreros Unidos', 'CJNG', color='g', sign='+', sign2='+')\n",
    "G.add_edge('Guerreros Unidos', 'BLO', color='g', sign='+', sign2='+')\n",
    "G.add_edge('Guerreros Unidos', 'Los Caballeros Templarios', color='y', sign='-', sign2='+')\n",
    "G.add_edge('Guerreros Unidos', 'La Familia', color='g', sign='+', sign2='+')\n",
    "G.add_edge('Guerreros Unidos', 'Gulf Cartel', color='y', sign='-', sign2='+')\n",
    "\n",
    "\n",
    "\n",
    "plt.figure(figsize=(12, 6), dpi=300)\n",
    "pos = nx.circular_layout(G)\n",
    "\n",
    "edges = G.edges()\n",
    "colors = [G[u][v]['color'] for u,v in edges]\n",
    "\n",
    "nx.draw(G, pos, edge_color=colors, width=5, node_size=1500,  with_labels=True)\n"
   ]
  },
  {
   "cell_type": "code",
   "execution_count": null,
   "metadata": {},
   "outputs": [],
   "source": [
    "import itertools\n",
    "nodes = G.nodes()\n",
    "triangular_relations = [list(each_tri_combination) for each_tri_combination in itertools.combinations(nodes,3)]\n",
    "\n",
    "len(triangular_relations)\n",
    "\n"
   ]
  },
  {
   "cell_type": "code",
   "execution_count": null,
   "metadata": {},
   "outputs": [],
   "source": [
    "#Let's visualize these triangular relationships for 2011. Both violent and non-violent conflicts \n",
    "#I will create a function to get all the signs of triangles defined in the list\n",
    "def get_signs_of_triangles_list(triangles_list,graph):\n",
    "    all_signs = []\n",
    "    for each_node_in_triangle_list in range(len(triangles_list)):\n",
    "        temp_storage_list = []\n",
    "        temp_storage_list.append(G[triangles_list[each_node_in_triangle_list][0]][triangles_list[each_node_in_triangle_list][1]]['sign'])\n",
    "        temp_storage_list.append(G[triangles_list[each_node_in_triangle_list][0]][triangles_list[each_node_in_triangle_list][2]]['sign'])\n",
    "        temp_storage_list.append(G[triangles_list[each_node_in_triangle_list][1]][triangles_list[each_node_in_triangle_list][2]]['sign'])\n",
    "        all_signs.append(temp_storage_list)\n",
    "    return all_signs"
   ]
  },
  {
   "cell_type": "code",
   "execution_count": null,
   "metadata": {},
   "outputs": [],
   "source": [
    "#storing all the signs in the list\n",
    "all_signs_in_network = get_signs_of_triangles_list(triangular_relations,G)\n",
    "\n",
    "len(all_signs_in_network)"
   ]
  },
  {
   "cell_type": "code",
   "execution_count": null,
   "metadata": {},
   "outputs": [],
   "source": [
    "def count_unstable_triangles(all_signs):\n",
    "    number_of_stable_triangles = 0\n",
    "    number_of_unstable_triangles = 0\n",
    "    for each_sign in range(len(all_signs)):\n",
    "        if all_signs[each_sign].count('+') == 3 or all_signs[each_sign].count('+') == 1:\n",
    "            number_of_stable_triangles = number_of_stable_triangles+1\n",
    "        else:\n",
    "            number_of_unstable_triangles = number_of_unstable_triangles+1\n",
    "    print(f\"number of stable_triangles out of {number_of_stable_triangles+number_of_unstable_triangles} are {number_of_stable_triangles}\")\n",
    "    print(f\"number of unstable_triangles out of {number_of_stable_triangles+number_of_unstable_triangles} are {number_of_unstable_triangles}\")  \n",
    "    return number_of_unstable_triangles,number_of_stable_triangles\n",
    "\n",
    "count_unstable_triangles(all_signs_in_network)"
   ]
  },
  {
   "cell_type": "code",
   "execution_count": null,
   "metadata": {},
   "outputs": [],
   "source": [
    "#Let's visualize these triangular relationships for 2011. This time we will only consider violent conflicts. \n",
    "#I will create a function to get all the signs of triangles defined in the list\n",
    "def get_signs_of_triangles_list(triangles_list,graph):\n",
    "    all_signs = []\n",
    "    for each_node_in_triangle_list in range(len(triangles_list)):\n",
    "        temp_storage_list = []\n",
    "        temp_storage_list.append(G[triangles_list[each_node_in_triangle_list][0]][triangles_list[each_node_in_triangle_list][1]]['sign2'])\n",
    "        temp_storage_list.append(G[triangles_list[each_node_in_triangle_list][0]][triangles_list[each_node_in_triangle_list][2]]['sign2'])\n",
    "        temp_storage_list.append(G[triangles_list[each_node_in_triangle_list][1]][triangles_list[each_node_in_triangle_list][2]]['sign2'])\n",
    "        all_signs.append(temp_storage_list)\n",
    "    return all_signs"
   ]
  },
  {
   "cell_type": "code",
   "execution_count": null,
   "metadata": {},
   "outputs": [],
   "source": [
    "#storing all the signs in the list\n",
    "all_signs_in_network = get_signs_of_triangles_list(triangular_relations,G)\n",
    "\n",
    "len(all_signs_in_network)"
   ]
  },
  {
   "cell_type": "code",
   "execution_count": null,
   "metadata": {},
   "outputs": [],
   "source": [
    "#Let's visualize these triangular relationships for 2011. This time we will only consider violent conflicts. \n",
    "#I will create a function to get all the signs of triangles defined in the list\n",
    "def get_signs_of_triangles_list(triangles_list,graph):\n",
    "    all_signs = []\n",
    "    for each_node_in_triangle_list in range(len(triangles_list)):\n",
    "        temp_storage_list = []\n",
    "        temp_storage_list.append(G[triangles_list[each_node_in_triangle_list][0]][triangles_list[each_node_in_triangle_list][1]]['sign2'])\n",
    "        temp_storage_list.append(G[triangles_list[each_node_in_triangle_list][0]][triangles_list[each_node_in_triangle_list][2]]['sign2'])\n",
    "        temp_storage_list.append(G[triangles_list[each_node_in_triangle_list][1]][triangles_list[each_node_in_triangle_list][2]]['sign2'])\n",
    "        all_signs.append(temp_storage_list)\n",
    "    return all_signs"
   ]
  },
  {
   "cell_type": "code",
   "execution_count": null,
   "metadata": {},
   "outputs": [],
   "source": [
    "def count_unstable_triangles(all_signs):\n",
    "    number_of_stable_triangles = 0\n",
    "    number_of_unstable_triangles = 0\n",
    "    for each_sign in range(len(all_signs)):\n",
    "        if all_signs[each_sign].count('+') == 3 or all_signs[each_sign].count('+') == 1:\n",
    "            number_of_stable_triangles = number_of_stable_triangles+1\n",
    "        else:\n",
    "            number_of_unstable_triangles = number_of_unstable_triangles+1\n",
    "    print(f\"number of stable_triangles out of {number_of_stable_triangles+number_of_unstable_triangles} are {number_of_stable_triangles}\")\n",
    "    print(f\"number of unstable_triangles out of {number_of_stable_triangles+number_of_unstable_triangles} are {number_of_unstable_triangles}\")  \n",
    "    return number_of_unstable_triangles,number_of_stable_triangles\n",
    "\n",
    "count_unstable_triangles(all_signs_in_network)"
   ]
  },
  {
   "cell_type": "code",
   "execution_count": null,
   "metadata": {},
   "outputs": [],
   "source": [
    "#print triangles list along with their respective signs\n",
    "for each_tri_combination in range(len(triangular_relations)):\n",
    "    print(triangular_relations[each_tri_combination])\n",
    "    print(all_signs_in_network[each_tri_combination])"
   ]
  },
  {
   "cell_type": "code",
   "execution_count": null,
   "metadata": {},
   "outputs": [],
   "source": [
    "def count_unstable_triangles(all_signs):\n",
    "    number_of_stable_triangles = 0\n",
    "    number_of_unstable_triangles = 0\n",
    "    for each_sign in range(len(all_signs)):\n",
    "        if all_signs[each_sign].count('+') == 3 or all_signs[each_sign].count('+') == 1:\n",
    "            number_of_stable_triangles = number_of_stable_triangles+1\n",
    "        else:\n",
    "            number_of_unstable_triangles = number_of_unstable_triangles+1\n",
    "    print(f\"number of stable_triangles out of {number_of_stable_triangles+number_of_unstable_triangles} are {number_of_stable_triangles}\")\n",
    "    print(f\"number of unstable_triangles out of {number_of_stable_triangles+number_of_unstable_triangles} are {number_of_unstable_triangles}\")  \n",
    "    return number_of_unstable_triangles,number_of_stable_triangles\n",
    "\n",
    "count_unstable_triangles(all_signs_in_network)"
   ]
  },
  {
   "cell_type": "code",
   "execution_count": null,
   "metadata": {},
   "outputs": [],
   "source": [
    "#Let's visualize these triangular relationships. Now, I will only consider violent conflicts. \n",
    "#I will create a function to get all the signs of triangles defined in the list.\n",
    "def get_signs_of_triangles_list(triangles_list,graph):\n",
    "    all_signs = []\n",
    "    for each_node_in_triangle_list in range(len(triangles_list)):\n",
    "        temp_storage_list = []\n",
    "        temp_storage_list.append(G[triangles_list[each_node_in_triangle_list][0]][triangles_list[each_node_in_triangle_list][1]]['sign2'])\n",
    "        temp_storage_list.append(G[triangles_list[each_node_in_triangle_list][0]][triangles_list[each_node_in_triangle_list][2]]['sign2'])\n",
    "        temp_storage_list.append(G[triangles_list[each_node_in_triangle_list][1]][triangles_list[each_node_in_triangle_list][2]]['sign2'])\n",
    "        all_signs.append(temp_storage_list)\n",
    "    return all_signs\n",
    "#storing all the signs in the list\n",
    "all_signs_in_network = get_signs_of_triangles_list(triangular_relations,G)\n",
    "\n",
    "len(all_signs_in_network)"
   ]
  },
  {
   "cell_type": "code",
   "execution_count": null,
   "metadata": {},
   "outputs": [],
   "source": [
    "def count_unstable_triangles(all_signs):\n",
    "    number_of_stable_triangles = 0\n",
    "    number_of_unstable_triangles = 0\n",
    "    for each_sign in range(len(all_signs)):\n",
    "        if all_signs[each_sign].count('+') == 3 or all_signs[each_sign].count('+') == 1:\n",
    "            number_of_stable_triangles = number_of_stable_triangles+1\n",
    "        else:\n",
    "            number_of_unstable_triangles = number_of_unstable_triangles+1\n",
    "    print(f\"number of stable_triangles out of {number_of_stable_triangles+number_of_unstable_triangles} are {number_of_stable_triangles}\")\n",
    "    print(f\"number of unstable_triangles out of {number_of_stable_triangles+number_of_unstable_triangles} are {number_of_unstable_triangles}\")  \n",
    "    return number_of_unstable_triangles,number_of_stable_triangles\n",
    "\n",
    "count_unstable_triangles(all_signs_in_network)"
   ]
  },
  {
   "cell_type": "code",
   "execution_count": null,
   "metadata": {},
   "outputs": [],
   "source": [
    "#Violent Conflicts 2015- 2016. In this graph I will not include organizations that only have local conflicts\n",
    "# with other organizations (conflicts within a single state). This graph shows violent conflicts as red edges, and non-violent\n",
    "#conflicts as green. A second analysis shows both violent and non-violent conflicts\n",
    "# as red edges, and alliances as green edges. The result is exactly the same as the analysis done for 2015\n",
    "\n",
    "G=nx.Graph()\n",
    "G.add_edge('Juarez Cartel', 'Sinaloa Cartel', color='r', sign='-', sign2='-')\n",
    "G.add_edge('Gulf Cartel', 'Los Zetas', color='r', sign='-', sign2='-')\n",
    "G.add_edge('Los Zetas', 'Sinaloa Cartel', color='r', sign='-', sign2='-' )\n",
    "G.add_edge('CJNG', 'Los Zetas', color='r', sign='-', sign2='-')\n",
    "G.add_edge('Los Caballeros Templarios', 'CJNG', color='r', sign='-', sign2='-')\n",
    "G.add_edge('BLO', 'Sinaloa Cartel', color='r', sign='-', sign2='-')\n",
    "G.add_edge('Sinaloa Cartel', 'CJNG', color='r', sign='-', sign2='-')\n",
    "G.add_edge('Juarez Cartel', 'Los Zetas', color='g', sign='+', sign2='+')\n",
    "G.add_edge('Juarez Cartel', 'BLO', color='g', sign='+', sign2='+')\n",
    "G.add_edge('Juarez Cartel', 'Gulf Cartel', color='y', sign='-', sign2='+')\n",
    "G.add_edge('Sinaloa Cartel', 'Gulf Cartel', color='g', sign='+', sign2='+')\n",
    "G.add_edge('Los Zetas', 'BLO', color='g', sign='+', sign2='+')\n",
    "G.add_edge('Juarez Cartel', 'CJNG', color='g', sign='+', sign2='+')\n",
    "G.add_edge('Gulf Cartel', 'CJNG', color='g', sign='+', sign2='+')\n",
    "G.add_edge('Gulf Cartel', 'BLO', color='r', sign='y', sign2='+')\n",
    "G.add_edge('CJNG', 'BLO', color='g', sign='+', sign2='+')\n",
    "G.add_edge('Los Caballeros Templarios', 'Gulf Cartel', color='g', sign='+', sign2='+')\n",
    "G.add_edge('Los Caballeros Templarios', 'BLO', color='g', sign='+', sign2='+')\n",
    "G.add_edge('Los Caballeros Templarios', 'Sinaloa Cartel', color='g', sign='+', sign2='+')\n",
    "G.add_edge('Los Caballeros Templarios', 'Los Zetas', color='y', sign='-', sign2='+')\n",
    "G.add_edge('Los Caballeros Templarios', 'Juarez Cartel', color='y', sign='-', sign2='+')\n",
    "G.add_edge('CIDA', 'Juarez Cartel', color='g', sign='+', sign2='+')\n",
    "G.add_edge('CIDA', 'Sinaloa Cartel', color='y', sign='-', sign2='+')\n",
    "G.add_edge('CIDA', 'Gulf Cartel', color='y', sign='-', sign2='+')\n",
    "G.add_edge('CIDA', 'Los Zetas', color='g', sign='+', sign2='+')\n",
    "G.add_edge('CIDA', 'CJNG', color='y', sign='-', sign2='+')\n",
    "G.add_edge('CIDA', 'BLO', color='g', sign='+', sign2='+')\n",
    "G.add_edge('CIDA', 'Los Caballeros Templarios', color='y', sign='-', sign2='+')\n",
    "G.add_edge('CIDA', 'La Familia', color='g', sign='+', sign2='+')\n",
    "G.add_edge('CIDA', 'Guerreros Unidos', color='g', sign='+', sign2='+')\n",
    "G.add_edge('Guerreros Unidos', 'Juarez Cartel', color='g', sign='+', sign2='+')\n",
    "G.add_edge('Guerreros Unidos', 'Sinaloa Cartel', color='y', sign='-', sign2='+')\n",
    "G.add_edge('Guerreros Unidos', 'Los Zetas', color='g', sign='+', sign2='+')\n",
    "G.add_edge('Guerreros Unidos', 'CJNG', color='g', sign='+', sign2='+')\n",
    "G.add_edge('Guerreros Unidos', 'BLO', color='g', sign='+', sign2='+')\n",
    "G.add_edge('Guerreros Unidos', 'Los Caballeros Templarios', color='y', sign='-', sign2='+')\n",
    "G.add_edge('Guerreros Unidos', 'La Familia', color='g', sign='+', sign2='+')\n",
    "G.add_edge('Guerreros Unidos', 'Gulf Cartel', color='y', sign='-', sign2='+')\n",
    "G.add_edge('La Familia', 'Los Caballeros Templarios', color='y', sign='-', sign2='+')\n",
    "G.add_edge('La Familia', 'Sinaloa Cartel', color='g', sign='+', sign2='+')\n",
    "G.add_edge('Los Zetas', 'La Familia', color='r', sign='-', sign2='-')\n",
    "G.add_edge('La Familia', 'BLO', color='y', sign='-', sign2='+')\n",
    "G.add_edge('La Familia', 'Gulf Cartel', color='y', sign='-', sign2='+')\n",
    "G.add_edge('La Familia', 'Juarez Cartel', color='y', sign='-', sign2='+')\n",
    "G.add_edge('La Familia', 'CJNG', color='y', sign='-', sign2='+')\n",
    "\n",
    "\n",
    "\n",
    "plt.figure(figsize=(10, 6), dpi=300)\n",
    "plt.margins(x=.2)\n",
    "ax = plt.gca()\n",
    "ax.set_title('2015-2016')\n",
    "pos = nx.circular_layout(G)\n",
    "\n",
    "edges = G.edges()\n",
    "colors = [G[u][v]['color'] for u,v in edges]\n",
    "\n",
    "nx.draw(G, pos, edge_color=colors, width=5,  with_labels=True)\n",
    "plt.savefig('conflcts2015-2016')"
   ]
  },
  {
   "cell_type": "code",
   "execution_count": null,
   "metadata": {},
   "outputs": [],
   "source": [
    "G.number_of_edges()"
   ]
  },
  {
   "cell_type": "code",
   "execution_count": null,
   "metadata": {},
   "outputs": [],
   "source": [
    "selected_edges = [(u,v) for u,v,e in G.edges(data=True) if e['color'] == 'y']\n",
    "print (selected_edges)"
   ]
  },
  {
   "cell_type": "code",
   "execution_count": null,
   "metadata": {},
   "outputs": [],
   "source": [
    "import itertools\n",
    "nodes = G.nodes()\n",
    "triangular_relations = [list(each_tri_combination) for each_tri_combination in itertools.combinations(nodes,3)]\n",
    "\n",
    "len(triangular_relations)"
   ]
  },
  {
   "cell_type": "code",
   "execution_count": null,
   "metadata": {},
   "outputs": [],
   "source": [
    "#Let's visualize these triangular relationships. Now, I will only consider violent conflicts. \n",
    "#I will create a function to get all the signs of triangles defined in the list.\n",
    "def get_signs_of_triangles_list(triangles_list,graph):\n",
    "    all_signs = []\n",
    "    for each_node_in_triangle_list in range(len(triangles_list)):\n",
    "        temp_storage_list = []\n",
    "        temp_storage_list.append(G[triangles_list[each_node_in_triangle_list][0]][triangles_list[each_node_in_triangle_list][1]]['sign'])\n",
    "        temp_storage_list.append(G[triangles_list[each_node_in_triangle_list][0]][triangles_list[each_node_in_triangle_list][2]]['sign'])\n",
    "        temp_storage_list.append(G[triangles_list[each_node_in_triangle_list][1]][triangles_list[each_node_in_triangle_list][2]]['sign'])\n",
    "        all_signs.append(temp_storage_list)\n",
    "    return all_signs\n",
    "#storing all the signs in the list\n",
    "all_signs_in_network = get_signs_of_triangles_list(triangular_relations,G)\n",
    "\n",
    "len(all_signs_in_network)"
   ]
  },
  {
   "cell_type": "code",
   "execution_count": null,
   "metadata": {},
   "outputs": [],
   "source": [
    "def count_unstable_triangles(all_signs):\n",
    "    number_of_stable_triangles = 0\n",
    "    number_of_unstable_triangles = 0\n",
    "    for each_sign in range(len(all_signs)):\n",
    "        if all_signs[each_sign].count('+') == 3 or all_signs[each_sign].count('+') == 1:\n",
    "            number_of_stable_triangles = number_of_stable_triangles+1\n",
    "        else:\n",
    "            number_of_unstable_triangles = number_of_unstable_triangles+1\n",
    "    print(f\"number of stable_triangles out of {number_of_stable_triangles+number_of_unstable_triangles} are {number_of_stable_triangles}\")\n",
    "    print(f\"number of unstable_triangles out of {number_of_stable_triangles+number_of_unstable_triangles} are {number_of_unstable_triangles}\")  \n",
    "    return number_of_unstable_triangles,number_of_stable_triangles\n",
    "\n",
    "count_unstable_triangles(all_signs_in_network)"
   ]
  },
  {
   "cell_type": "code",
   "execution_count": null,
   "metadata": {},
   "outputs": [],
   "source": []
  },
  {
   "cell_type": "code",
   "execution_count": null,
   "metadata": {},
   "outputs": [],
   "source": [
    "#Violent Conflicts 2017. In this graph I will not include organizations that only have local conflicts\n",
    "# with other organizations (conflicts within a single state). This graph shows violent conflicts as red edges, and non-violent\n",
    "#conflicts as green. A second analysis shows both violent and non-violent conflicts\n",
    "# as red edges, and alliances as green edges. \n",
    "\n",
    "F=nx.Graph()\n",
    "F.add_edge('Juarez Cartel', 'Sinaloa Cartel', color='r', sign='-', sign2='-')\n",
    "F.add_edge('Gulf Cartel', 'Los Zetas', color='r', sign='-', sign2='-')\n",
    "F.add_edge('Los Zetas', 'Sinaloa Cartel', color='r', sign='-', sign2='-' )\n",
    "F.add_edge('CJNG', 'Los Zetas', color='r', sign='-', sign2='-')\n",
    "F.add_edge('Sinaloa Cartel', 'CJNG', color='r', sign='-', sign2='-')\n",
    "F.add_edge('Juarez Cartel', 'Los Zetas', color='g', sign='+', sign2='+')\n",
    "F.add_edge('Juarez Cartel', 'Gulf Cartel', color='y', sign='-', sign2='+')\n",
    "F.add_edge('Sinaloa Cartel', 'Gulf Cartel', color='g', sign='+', sign2='+')\n",
    "F.add_edge('Juarez Cartel', 'CJNG', color='g', sign='+', sign2='+')\n",
    "F.add_edge('Gulf Cartel', 'CJNG', color='g', sign='+', sign2='+')\n",
    "F.add_edge('CIDA', 'Juarez Cartel', color='g', sign='+', sign2='+')\n",
    "F.add_edge('CIDA', 'Sinaloa Cartel', color='y', sign='-', sign2='+')\n",
    "F.add_edge('CIDA', 'Gulf Cartel', color='y', sign='-', sign2='+')\n",
    "F.add_edge('CIDA', 'Los Zetas', color='g', sign='+', sign2='+')\n",
    "F.add_edge('CIDA', 'CJNG', color='y', sign='-', sign2='+')\n",
    "F.add_edge('CIDA', 'BLO', color='g', sign='+', sign2='+')\n",
    "F.add_edge('CIDA', 'Los Caballeros Templarios', color='y', sign='-', sign2='+')\n",
    "F.add_edge('CIDA', 'La Familia', color='g', sign='+', sign2='+')\n",
    "F.add_edge('CIDA', 'Guerreros Unidos', color='g', sign='+', sign2='+')\n",
    "F.add_edge('Guerreros Unidos', 'Juarez Cartel', color='g', sign='+', sign2='+')\n",
    "F.add_edge('Guerreros Unidos', 'Sinaloa Cartel', color='y', sign='-', sign2='+')\n",
    "F.add_edge('Guerreros Unidos', 'Los Zetas', color='g', sign='+', sign2='+')\n",
    "F.add_edge('Guerreros Unidos', 'CJNG', color='g', sign='+', sign2='+')\n",
    "F.add_edge('Guerreros Unidos', 'BLO', color='g', sign='+', sign2='+')\n",
    "F.add_edge('Guerreros Unidos', 'Los Caballeros Templarios', color='y', sign='-', sign2='+')\n",
    "F.add_edge('Guerreros Unidos', 'La Familia', color='g', sign='+', sign2='+')\n",
    "F.add_edge('Guerreros Unidos', 'Gulf Cartel', color='y', sign='-', sign2='+')\n",
    "F.add_edge('La Familia', 'Los Caballeros Templarios', color='y', sign='-', sign2='+')\n",
    "F.add_edge('La Familia', 'Sinaloa Cartel', color='g', sign='+', sign2='+')\n",
    "F.add_edge('Los Zetas', 'La Familia', color='y', sign='-', sign2='+')\n",
    "F.add_edge('La Familia', 'BLO', color='y', sign='-', sign2='+')\n",
    "F.add_edge('La Familia', 'Gulf Cartel', color='y', sign='-', sign2='+')\n",
    "F.add_edge('La Familia', 'Juarez Cartel', color='y', sign='-', sign2='+')\n",
    "F.add_edge('La Familia', 'CJNG', color='y', sign='-', sign2='+')\n",
    "F.add_edge('Los Caballeros Templarios', 'Gulf Cartel', color='g', sign='+', sign2='+')\n",
    "F.add_edge('Los Caballeros Templarios', 'BLO', color='g', sign='+', sign2='+')\n",
    "F.add_edge('Los Caballeros Templarios', 'Sinaloa Cartel', color='g', sign='+', sign2='+')\n",
    "F.add_edge('Los Caballeros Templarios', 'Los Zetas', color='y', sign='-', sign2='+')\n",
    "F.add_edge('Los Caballeros Templarios', 'Juarez Cartel', color='y', sign='-', sign2='+')\n",
    "F.add_edge('Los Caballeros Templarios', 'CJNG', color='y', sign='-', sign2='+')\n",
    "F.add_edge('BLO', 'Sinaloa Cartel', color='y', sign='-', sign2='+')\n",
    "F.add_edge('Juarez Cartel', 'BLO', color='g', sign='+', sign2='+')\n",
    "F.add_edge('Los Zetas', 'BLO', color='g', sign='+', sign2='+')\n",
    "F.add_edge('Gulf Cartel', 'BLO', color='y', sign='-', sign2='+')\n",
    "F.add_edge('CJNG', 'BLO', color='g', sign='+', sign2='+')\n",
    "\n",
    "plt.figure(figsize=(10, 6), dpi=300)\n",
    "plt.margins(x=.2)\n",
    "ax = plt.gca()\n",
    "ax.set_title('2017')\n",
    "pos = nx.circular_layout(F)\n",
    "\n",
    "edges = F.edges()\n",
    "colors = [F[u][v]['color'] for u,v in edges]\n",
    "\n",
    "nx.draw(F, pos, edge_color=colors, width=5,  with_labels=True)\n",
    "plt.savefig('conflicts2017')"
   ]
  },
  {
   "cell_type": "code",
   "execution_count": null,
   "metadata": {},
   "outputs": [],
   "source": [
    "selected_edges = [(u,v) for u,v,e in F.edges(data=True) if e['color'] == 'y']\n",
    "print (selected_edges)"
   ]
  },
  {
   "cell_type": "code",
   "execution_count": null,
   "metadata": {},
   "outputs": [],
   "source": [
    "import itertools\n",
    "nodes = F.nodes()\n",
    "triangular_relations = [list(each_tri_combination) for each_tri_combination in itertools.combinations(nodes,3)]\n",
    "\n",
    "len(triangular_relations)"
   ]
  },
  {
   "cell_type": "code",
   "execution_count": null,
   "metadata": {},
   "outputs": [],
   "source": [
    "#Let's visualize these triangular relationships. Now, I will only consider violent conflicts. \n",
    "#I will create a function to get all the signs of triangles defined in the list.\n",
    "def get_signs_of_triangles_list(triangles_list,graph):\n",
    "    all_signs = []\n",
    "    for each_node_in_triangle_list in range(len(triangles_list)):\n",
    "        temp_storage_list = []\n",
    "        temp_storage_list.append(F[triangles_list[each_node_in_triangle_list][0]][triangles_list[each_node_in_triangle_list][1]]['sign'])\n",
    "        temp_storage_list.append(F[triangles_list[each_node_in_triangle_list][0]][triangles_list[each_node_in_triangle_list][2]]['sign'])\n",
    "        temp_storage_list.append(F[triangles_list[each_node_in_triangle_list][1]][triangles_list[each_node_in_triangle_list][2]]['sign'])\n",
    "        all_signs.append(temp_storage_list)\n",
    "    return all_signs\n",
    "#storing all the signs in the list\n",
    "all_signs_in_network = get_signs_of_triangles_list(triangular_relations,F)\n",
    "\n",
    "len(all_signs_in_network)"
   ]
  },
  {
   "cell_type": "code",
   "execution_count": null,
   "metadata": {},
   "outputs": [],
   "source": [
    "def count_unstable_triangles(all_signs):\n",
    "    number_of_stable_triangles = 0\n",
    "    number_of_unstable_triangles = 0\n",
    "    for each_sign in range(len(all_signs)):\n",
    "        if all_signs[each_sign].count('+') == 3 or all_signs[each_sign].count('+') == 1:\n",
    "            number_of_stable_triangles = number_of_stable_triangles+1\n",
    "        else:\n",
    "            number_of_unstable_triangles = number_of_unstable_triangles+1\n",
    "    print(f\"number of stable_triangles out of {number_of_stable_triangles+number_of_unstable_triangles} are {number_of_stable_triangles}\")\n",
    "    print(f\"number of unstable_triangles out of {number_of_stable_triangles+number_of_unstable_triangles} are {number_of_unstable_triangles}\")  \n",
    "    return number_of_unstable_triangles,number_of_stable_triangles\n",
    "\n",
    "count_unstable_triangles(all_signs_in_network)"
   ]
  },
  {
   "cell_type": "code",
   "execution_count": null,
   "metadata": {},
   "outputs": [],
   "source": [
    "#Violent Conflicts 2018-2020. In this graph I will not include organizations that only have local conflicts\n",
    "# with other organizations (conflicts within a single state). This graph shows violent conflicts as red edges, and non-violent\n",
    "#conflicts as green. A second analysis shows both violent and non-violent conflicts\n",
    "# as red edges, and alliances as green edges.\n",
    "\n",
    "H=nx.Graph()\n",
    "H.add_edge('Juarez Cartel', 'Sinaloa Cartel', color='r', sign='-', sign2='-')\n",
    "H.add_edge('Gulf Cartel', 'Los Zetas', color='r', sign='-', sign2='-')\n",
    "H.add_edge('Los Zetas', 'Sinaloa Cartel', color='r', sign='-', sign2='-' )\n",
    "H.add_edge('CJNG', 'Los Zetas', color='r', sign='-', sign2='-')\n",
    "H.add_edge('BLO', 'Sinaloa Cartel', color='r', sign='-', sign2='-')\n",
    "H.add_edge('Juarez Cartel', 'Los Zetas', color='g', sign='+', sign2='+')\n",
    "H.add_edge('Juarez Cartel', 'BLO', color='g', sign='+', sign2='+')\n",
    "H.add_edge('Juarez Cartel', 'Gulf Cartel', color='y', sign='-', sign2='+')\n",
    "H.add_edge('Sinaloa Cartel', 'CJNG', color='r', sign='-', sign2='-')\n",
    "H.add_edge('Sinaloa Cartel', 'Gulf Cartel', color='g', sign='+', sign2='+')\n",
    "H.add_edge('Los Zetas', 'BLO', color='g', sign='+', sign2='+')\n",
    "H.add_edge('Juarez Cartel', 'CJNG', color='g', sign='+', sign2='+')\n",
    "H.add_edge('Gulf Cartel', 'CJNG', color='g', sign='+', sign2='+')\n",
    "H.add_edge('Gulf Cartel', 'BLO', color='y', sign='-', sign2='+')\n",
    "H.add_edge('CJNG', 'BLO', color='g', sign='+', sign2='+')\n",
    "H.add_edge('La Familia', 'Sinaloa Cartel', color='g', sign='+', sign2='+')\n",
    "H.add_edge('Los Zetas', 'La Familia', color='y', sign='-', sign2='+')\n",
    "H.add_edge('La Familia', 'BLO', color='y', sign='-', sign2='+')\n",
    "H.add_edge('La Familia', 'Gulf Cartel', color='y', sign='-', sign2='+')\n",
    "H.add_edge('La Familia', 'Juarez Cartel', color='y', sign='-', sign2='+')\n",
    "H.add_edge('La Familia', 'CJNG', color='y', sign='-', sign2='+')\n",
    "H.add_edge('CIDA', 'Juarez Cartel', color='g', sign='+', sign2='+')\n",
    "H.add_edge('CIDA', 'Sinaloa Cartel', color='y', sign='-', sign2='+')\n",
    "H.add_edge('CIDA', 'Gulf Cartel', color='y', sign='-', sign2='+')\n",
    "H.add_edge('CIDA', 'Los Zetas', color='g', sign='+', sign2='+')\n",
    "H.add_edge('CIDA', 'CJNG', color='y', sign='-', sign2='+')\n",
    "H.add_edge('CIDA', 'BLO', color='g', sign='+', sign2='+')\n",
    "H.add_edge('CIDA', 'La Familia', color='g', sign='+', sign2='+')\n",
    "H.add_edge('CIDA', 'Guerreros Unidos', color='g', sign='+', sign2='+')\n",
    "H.add_edge('Guerreros Unidos', 'Juarez Cartel', color='g', sign='+', sign2='+')\n",
    "H.add_edge('Guerreros Unidos', 'Sinaloa Cartel', color='y', sign='-', sign2='+')\n",
    "H.add_edge('Guerreros Unidos', 'Los Zetas', color='g', sign='+', sign2='+')\n",
    "H.add_edge('Guerreros Unidos', 'CJNG', color='g', sign='+', sign2='+')\n",
    "H.add_edge('Guerreros Unidos', 'BLO', color='g', sign='+', sign2='+')\n",
    "H.add_edge('Guerreros Unidos', 'La Familia', color='g', sign='+', sign2='+')\n",
    "H.add_edge('Guerreros Unidos', 'Gulf Cartel', color='y', sign='-', sign2='+')\n",
    "\n",
    "plt.figure(figsize=(10, 6), dpi=300)\n",
    "plt.margins(x=.2)\n",
    "ax = plt.gca()\n",
    "ax.set_title('2018-2020')\n",
    "pos = nx.circular_layout(H)\n",
    "\n",
    "edges = H.edges()\n",
    "colors = [H[u][v]['color'] for u,v in edges]\n",
    "\n",
    "nx.draw(H, pos, edge_color=colors, width=5,  with_labels=True)\n",
    "plt.savefig('conflicts2018-2020', bbox_inches='tight')"
   ]
  },
  {
   "cell_type": "code",
   "execution_count": null,
   "metadata": {},
   "outputs": [],
   "source": [
    "selected_edges = [(u,v) for u,v,e in H.edges(data=True) if e['color'] == 'y']\n",
    "print (selected_edges)"
   ]
  },
  {
   "cell_type": "code",
   "execution_count": null,
   "metadata": {},
   "outputs": [],
   "source": [
    "import itertools\n",
    "nodes = H.nodes()\n",
    "triangular_relations = [list(each_tri_combination) for each_tri_combination in itertools.combinations(nodes,3)]\n",
    "triangular_relations\n",
    "\n",
    "#Let's visualize these triangular relationships. \n",
    "#I will create a function to get all the signs of triangles defined in the list.\n",
    "def get_signs_of_triangles_list(triangles_list,graph):\n",
    "    all_signs = []\n",
    "    for each_node_in_triangle_list in range(len(triangles_list)):\n",
    "        temp_storage_list = []\n",
    "        temp_storage_list.append(H[triangles_list[each_node_in_triangle_list][0]][triangles_list[each_node_in_triangle_list][1]]['sign'])\n",
    "        temp_storage_list.append(H[triangles_list[each_node_in_triangle_list][0]][triangles_list[each_node_in_triangle_list][2]]['sign'])\n",
    "        temp_storage_list.append(H[triangles_list[each_node_in_triangle_list][1]][triangles_list[each_node_in_triangle_list][2]]['sign'])\n",
    "        all_signs.append(temp_storage_list)\n",
    "    return all_signs\n",
    "#storing all the signs in the list\n",
    "all_signs_in_network = get_signs_of_triangles_list(triangular_relations,H)\n",
    "\n",
    "len(all_signs_in_network)"
   ]
  },
  {
   "cell_type": "code",
   "execution_count": null,
   "metadata": {},
   "outputs": [],
   "source": [
    "def count_unstable_triangles(all_signs):\n",
    "    number_of_stable_triangles = 0\n",
    "    number_of_unstable_triangles = 0\n",
    "    for each_sign in range(len(all_signs)):\n",
    "        if all_signs[each_sign].count('+') == 3 or all_signs[each_sign].count('+') == 1:\n",
    "            number_of_stable_triangles = number_of_stable_triangles+1\n",
    "        else:\n",
    "            number_of_unstable_triangles = number_of_unstable_triangles+1\n",
    "    print(f\"number of stable_triangles out of {number_of_stable_triangles+number_of_unstable_triangles} are {number_of_stable_triangles}\")\n",
    "    print(f\"number of unstable_triangles out of {number_of_stable_triangles+number_of_unstable_triangles} are {number_of_unstable_triangles}\")  \n",
    "    return number_of_unstable_triangles,number_of_stable_triangles\n",
    "\n",
    "count_unstable_triangles(all_signs_in_network)"
   ]
  },
  {
   "cell_type": "code",
   "execution_count": null,
   "metadata": {},
   "outputs": [],
   "source": [
    "T=nx.grid_2d_graph(4,4)\n",
    "plt.figure(figsize=(14, 10), dpi=300)\n",
    "\n",
    "\n",
    "plt.subplot(221)\n",
    "plt.margins(x=.15)\n",
    "ax = plt.gca()\n",
    "ax.set_title('2015-2016')\n",
    "pos = nx.circular_layout(G)\n",
    "nx.draw(G, pos, edge_color=colors, width=5,  with_labels=True)\n",
    "\n",
    "plt.subplot(222)\n",
    "plt.margins(x=.15)\n",
    "ax = plt.gca()\n",
    "ax.set_title('2017')\n",
    "pos = nx.circular_layout(F)\n",
    "nx.draw(F, pos, edge_color=colors, width=5,  with_labels=True)\n",
    "\n",
    "plt.subplot(223)\n",
    "plt.margins(x=.15)\n",
    "ax = plt.gca()\n",
    "ax.set_title('2018-2020')\n",
    "pos = nx.circular_layout(H)\n",
    "nx.draw(H, pos, edge_color=colors, width=5,  with_labels=True)\n",
    "\n",
    "plt.savefig('conflicts2015-2020')"
   ]
  },
  {
   "cell_type": "code",
   "execution_count": null,
   "metadata": {},
   "outputs": [],
   "source": [
    "# A triad with only positive relationships. It is balanced. \n",
    "edges = [['1', '2'], ['2', '3'], ['3', '1']]\n",
    "G = nx.Graph()\n",
    "G.add_edges_from(edges)\n",
    "pos = nx.circular_layout(G)\n",
    "plt.figure()\n",
    "nx.draw(\n",
    "    G, pos, edge_color='black', width=5, linewidths=1,\n",
    "    node_size=500, node_color='blue', alpha=0.9,\n",
    "    labels={node: node for node in G.nodes()}\n",
    ")\n",
    "nx.draw_networkx_edge_labels(\n",
    "    G, pos,\n",
    "    edge_labels={('1', '2'): 'Positive', \n",
    "                 ('2', '3'): 'Positive', \n",
    "                 ('3', '1'): 'Positive', },\n",
    "    font_color='black'\n",
    ")\n",
    "plt.axis('off')\n",
    "plt.show()"
   ]
  },
  {
   "cell_type": "code",
   "execution_count": null,
   "metadata": {},
   "outputs": [],
   "source": []
  }
 ],
 "metadata": {
  "kernelspec": {
   "display_name": "Python 3 (ipykernel)",
   "language": "python",
   "name": "python3"
  },
  "language_info": {
   "codemirror_mode": {
    "name": "ipython",
    "version": 3
   },
   "file_extension": ".py",
   "mimetype": "text/x-python",
   "name": "python",
   "nbconvert_exporter": "python",
   "pygments_lexer": "ipython3",
   "version": "3.10.9"
  }
 },
 "nbformat": 4,
 "nbformat_minor": 4
}
